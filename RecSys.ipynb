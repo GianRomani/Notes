{
  "cells": [
    {
      "cell_type": "code",
      "execution_count": 1,
      "metadata": {
        "colab": {
          "base_uri": "https://localhost:8080/"
        },
        "id": "LTi4PI6vpx3w",
        "outputId": "2c00bcab-9f65-4712-eee2-696bd20859e3"
      },
      "outputs": [
        {
          "output_type": "stream",
          "name": "stdout",
          "text": [
            "Mounted at /content/drive\n"
          ]
        }
      ],
      "source": [
        "from google.colab import drive\n",
        "drive.mount('/content/drive')"
      ]
    },
    {
      "cell_type": "markdown",
      "source": [
        "# Imports"
      ],
      "metadata": {
        "id": "5VtIQ2yC3BOK"
      }
    },
    {
      "cell_type": "code",
      "execution_count": 2,
      "metadata": {
        "id": "cfQHWt0ipO_f"
      },
      "outputs": [],
      "source": [
        "import json\n",
        "import pandas as pd\n",
        "import numpy as np\n",
        "import time\n",
        "import heapq\n",
        "\n",
        "from sklearn.feature_extraction.text import TfidfVectorizer\n",
        "from sklearn.metrics.pairwise import cosine_similarity\n",
        "from sklearn.cluster import KMeans\n",
        "from sklearn.decomposition import TruncatedSVD\n",
        "import matplotlib.pyplot as plt\n",
        "%matplotlib inline "
      ]
    },
    {
      "cell_type": "code",
      "source": [
        "import warnings\n",
        "warnings.filterwarnings(\"ignore\")"
      ],
      "metadata": {
        "id": "vw3lQl1y4Pjx"
      },
      "execution_count": 3,
      "outputs": []
    },
    {
      "cell_type": "code",
      "execution_count": 4,
      "metadata": {
        "id": "RqYfd9FqpO_o"
      },
      "outputs": [],
      "source": [
        "likes_path = \"/content/drive/MyDrive/Tesi/easytour-likes-2022-03MAR-21.json\"\n",
        "schede_path = \"/content/drive/MyDrive/Tesi/easytour-schede-2022-03MAR-21.json\"\n",
        "#data_path = \"/content/drive/MyDrive/Tesi/data_analyzed.csv\"\n",
        "data_path = \"/content/drive/MyDrive/Tesi/data.csv\""
      ]
    },
    {
      "cell_type": "code",
      "execution_count": 5,
      "metadata": {
        "id": "fywaOoqZpO_u"
      },
      "outputs": [],
      "source": [
        "df_schede = pd.read_json(schede_path)\n",
        "df_likes = pd.read_json(likes_path)\n",
        "data = pd.read_csv(data_path, encoding_errors='ignore')  "
      ]
    },
    {
      "cell_type": "code",
      "execution_count": 6,
      "metadata": {
        "id": "OG5NDaEcpO_3"
      },
      "outputs": [],
      "source": [
        "df_schede_fields = df_schede[[\"id\",\"userId\", \"title\", \"description\", \"duration\", \"datePublishing\", \"creationDate\", \"counterUseful\", \"categories\", \"viewCounter\"]]\n",
        "df_likes_ids = df_likes[[\"id\", \"userId\"]]"
      ]
    },
    {
      "cell_type": "code",
      "source": [
        "data"
      ],
      "metadata": {
        "colab": {
          "base_uri": "https://localhost:8080/",
          "height": 832
        },
        "id": "Br25_xytAnkK",
        "outputId": "b3d1adc0-0213-4398-a6d0-750b9ac9b1df"
      },
      "execution_count": 7,
      "outputs": [
        {
          "output_type": "execute_result",
          "data": {
            "text/plain": [
              "                            id  userId                     title  \\\n",
              "0     62355f98272ae5672fbc3ac7     632              ['spiaggia']   \n",
              "1     620abb33ff8ae67f37cafe3c     442                        []   \n",
              "2     620aa536ff8ae67f37cafb06     442                  ['tigr']   \n",
              "3     62349ff2272ae5672fbc3135     632                   ['big']   \n",
              "4     6234aa65272ae5672fbc34c2     632         ['wat', 'tempio']   \n",
              "...                        ...     ...                       ...   \n",
              "4351  61f57f62306802033034ceed     536  ['avventura', 'cascata']   \n",
              "4352  61f668fa306802033034d239     536             ['avventura']   \n",
              "4353  620bbf26b1675d6cc11232f8     431        ['loma', 'polmon']   \n",
              "4354  61f3c6add91e9928f6e0922a     431                  ['lima']   \n",
              "4355  61fae86453a6a72116188980     158                        []   \n",
              "\n",
              "                                            description     duration  \\\n",
              "0     ['paradiso', 'amant', 'sole', 'mare', 'sole', ...          0.0   \n",
              "1     ['spiaggia', 'isola', 'spiaggia', 'mare', 'ter...    3600000.0   \n",
              "2     ['marcio', 'maltrattamento', 'animal', 'sconsi...    3600000.0   \n",
              "3     ['meta', 'turista', 'assalto', 'spiaggia', 'ac...          0.0   \n",
              "4     ['spiaggia', 'pena', 'tempio', 'big', 'tempio'...          0.0   \n",
              "...                                                 ...          ...   \n",
              "4351  ['esperienza', 'step', 'contatto', 'realtà', '...  259200000.0   \n",
              "4352  ['spalla', 'esperienza', 'lascito', 'vista', '...   57600000.0   \n",
              "4353  ['mese', 'sole', 'capital', 'nuvola', 'nebbia'...    9000000.0   \n",
              "4354  ['angolo', 'turista', 'calor', 'gent', 'bellez...  172800000.0   \n",
              "4355  ['viaggio', 'dubbio', 'isola', 'galapago', '50...  345600000.0   \n",
              "\n",
              "                datePublishing                   creationDate  counterUseful  \\\n",
              "0     2022-03-19T04:44:09.503Z  2022-03-19T04:44:08.000+00:00              0   \n",
              "1     2022-02-14T20:27:32.224Z  2022-02-14T20:27:31.000+00:00              0   \n",
              "2     2022-02-14T20:05:09.586Z  2022-02-14T18:53:42.000+00:00              0   \n",
              "3     2022-03-19T04:48:49.248Z  2022-03-18T15:06:26.000+00:00              0   \n",
              "4     2022-03-19T04:04:27.356Z  2022-03-18T15:51:01.000+00:00              0   \n",
              "...                        ...                            ...            ...   \n",
              "4351  2022-01-29T17:54:42.761Z  2022-01-29T17:54:42.000+00:00              0   \n",
              "4352  2022-01-30T10:31:22.977Z  2022-01-30T10:31:22.000+00:00              0   \n",
              "4353  2022-02-15T14:56:39.554Z  2022-02-15T14:56:38.000+00:00              1   \n",
              "4354  2022-02-01T16:57:01.557Z  2022-01-28T10:34:21.000+00:00              1   \n",
              "4355  2022-02-07T19:19:09.439Z  2022-02-02T20:24:04.000+00:00              3   \n",
              "\n",
              "      viewCounter  aria aperta  cultura  food  sport  tempo libero  viaggi  \\\n",
              "0             2.0            0        0     0      0             0       1   \n",
              "1           413.0            0        0     0      0             0       1   \n",
              "2           414.0            0        0     0      0             0       1   \n",
              "3             4.0            0        0     0      0             0       1   \n",
              "4             4.0            0        0     0      0             0       1   \n",
              "...           ...          ...      ...   ...    ...           ...     ...   \n",
              "4351         42.0            0        0     0      0             0       1   \n",
              "4352         35.0            0        0     0      0             0       1   \n",
              "4353         37.0            0        0     0      0             0       1   \n",
              "4354         51.0            0        0     0      0             0       1   \n",
              "4355         75.0            0        0     0      0             0       1   \n",
              "\n",
              "      duration_min  days  \n",
              "0              0.0     9  \n",
              "1             60.0    41  \n",
              "2             60.0    41  \n",
              "3              0.0    10  \n",
              "4              0.0    10  \n",
              "...            ...   ...  \n",
              "4351        4320.0    57  \n",
              "4352         960.0    57  \n",
              "4353         150.0    41  \n",
              "4354        2880.0    59  \n",
              "4355        5760.0    53  \n",
              "\n",
              "[4356 rows x 17 columns]"
            ],
            "text/html": [
              "\n",
              "  <div id=\"df-097edb6c-b175-405f-8698-3f8dc749f11a\">\n",
              "    <div class=\"colab-df-container\">\n",
              "      <div>\n",
              "<style scoped>\n",
              "    .dataframe tbody tr th:only-of-type {\n",
              "        vertical-align: middle;\n",
              "    }\n",
              "\n",
              "    .dataframe tbody tr th {\n",
              "        vertical-align: top;\n",
              "    }\n",
              "\n",
              "    .dataframe thead th {\n",
              "        text-align: right;\n",
              "    }\n",
              "</style>\n",
              "<table border=\"1\" class=\"dataframe\">\n",
              "  <thead>\n",
              "    <tr style=\"text-align: right;\">\n",
              "      <th></th>\n",
              "      <th>id</th>\n",
              "      <th>userId</th>\n",
              "      <th>title</th>\n",
              "      <th>description</th>\n",
              "      <th>duration</th>\n",
              "      <th>datePublishing</th>\n",
              "      <th>creationDate</th>\n",
              "      <th>counterUseful</th>\n",
              "      <th>viewCounter</th>\n",
              "      <th>aria aperta</th>\n",
              "      <th>cultura</th>\n",
              "      <th>food</th>\n",
              "      <th>sport</th>\n",
              "      <th>tempo libero</th>\n",
              "      <th>viaggi</th>\n",
              "      <th>duration_min</th>\n",
              "      <th>days</th>\n",
              "    </tr>\n",
              "  </thead>\n",
              "  <tbody>\n",
              "    <tr>\n",
              "      <th>0</th>\n",
              "      <td>62355f98272ae5672fbc3ac7</td>\n",
              "      <td>632</td>\n",
              "      <td>['spiaggia']</td>\n",
              "      <td>['paradiso', 'amant', 'sole', 'mare', 'sole', ...</td>\n",
              "      <td>0.0</td>\n",
              "      <td>2022-03-19T04:44:09.503Z</td>\n",
              "      <td>2022-03-19T04:44:08.000+00:00</td>\n",
              "      <td>0</td>\n",
              "      <td>2.0</td>\n",
              "      <td>0</td>\n",
              "      <td>0</td>\n",
              "      <td>0</td>\n",
              "      <td>0</td>\n",
              "      <td>0</td>\n",
              "      <td>1</td>\n",
              "      <td>0.0</td>\n",
              "      <td>9</td>\n",
              "    </tr>\n",
              "    <tr>\n",
              "      <th>1</th>\n",
              "      <td>620abb33ff8ae67f37cafe3c</td>\n",
              "      <td>442</td>\n",
              "      <td>[]</td>\n",
              "      <td>['spiaggia', 'isola', 'spiaggia', 'mare', 'ter...</td>\n",
              "      <td>3600000.0</td>\n",
              "      <td>2022-02-14T20:27:32.224Z</td>\n",
              "      <td>2022-02-14T20:27:31.000+00:00</td>\n",
              "      <td>0</td>\n",
              "      <td>413.0</td>\n",
              "      <td>0</td>\n",
              "      <td>0</td>\n",
              "      <td>0</td>\n",
              "      <td>0</td>\n",
              "      <td>0</td>\n",
              "      <td>1</td>\n",
              "      <td>60.0</td>\n",
              "      <td>41</td>\n",
              "    </tr>\n",
              "    <tr>\n",
              "      <th>2</th>\n",
              "      <td>620aa536ff8ae67f37cafb06</td>\n",
              "      <td>442</td>\n",
              "      <td>['tigr']</td>\n",
              "      <td>['marcio', 'maltrattamento', 'animal', 'sconsi...</td>\n",
              "      <td>3600000.0</td>\n",
              "      <td>2022-02-14T20:05:09.586Z</td>\n",
              "      <td>2022-02-14T18:53:42.000+00:00</td>\n",
              "      <td>0</td>\n",
              "      <td>414.0</td>\n",
              "      <td>0</td>\n",
              "      <td>0</td>\n",
              "      <td>0</td>\n",
              "      <td>0</td>\n",
              "      <td>0</td>\n",
              "      <td>1</td>\n",
              "      <td>60.0</td>\n",
              "      <td>41</td>\n",
              "    </tr>\n",
              "    <tr>\n",
              "      <th>3</th>\n",
              "      <td>62349ff2272ae5672fbc3135</td>\n",
              "      <td>632</td>\n",
              "      <td>['big']</td>\n",
              "      <td>['meta', 'turista', 'assalto', 'spiaggia', 'ac...</td>\n",
              "      <td>0.0</td>\n",
              "      <td>2022-03-19T04:48:49.248Z</td>\n",
              "      <td>2022-03-18T15:06:26.000+00:00</td>\n",
              "      <td>0</td>\n",
              "      <td>4.0</td>\n",
              "      <td>0</td>\n",
              "      <td>0</td>\n",
              "      <td>0</td>\n",
              "      <td>0</td>\n",
              "      <td>0</td>\n",
              "      <td>1</td>\n",
              "      <td>0.0</td>\n",
              "      <td>10</td>\n",
              "    </tr>\n",
              "    <tr>\n",
              "      <th>4</th>\n",
              "      <td>6234aa65272ae5672fbc34c2</td>\n",
              "      <td>632</td>\n",
              "      <td>['wat', 'tempio']</td>\n",
              "      <td>['spiaggia', 'pena', 'tempio', 'big', 'tempio'...</td>\n",
              "      <td>0.0</td>\n",
              "      <td>2022-03-19T04:04:27.356Z</td>\n",
              "      <td>2022-03-18T15:51:01.000+00:00</td>\n",
              "      <td>0</td>\n",
              "      <td>4.0</td>\n",
              "      <td>0</td>\n",
              "      <td>0</td>\n",
              "      <td>0</td>\n",
              "      <td>0</td>\n",
              "      <td>0</td>\n",
              "      <td>1</td>\n",
              "      <td>0.0</td>\n",
              "      <td>10</td>\n",
              "    </tr>\n",
              "    <tr>\n",
              "      <th>...</th>\n",
              "      <td>...</td>\n",
              "      <td>...</td>\n",
              "      <td>...</td>\n",
              "      <td>...</td>\n",
              "      <td>...</td>\n",
              "      <td>...</td>\n",
              "      <td>...</td>\n",
              "      <td>...</td>\n",
              "      <td>...</td>\n",
              "      <td>...</td>\n",
              "      <td>...</td>\n",
              "      <td>...</td>\n",
              "      <td>...</td>\n",
              "      <td>...</td>\n",
              "      <td>...</td>\n",
              "      <td>...</td>\n",
              "      <td>...</td>\n",
              "    </tr>\n",
              "    <tr>\n",
              "      <th>4351</th>\n",
              "      <td>61f57f62306802033034ceed</td>\n",
              "      <td>536</td>\n",
              "      <td>['avventura', 'cascata']</td>\n",
              "      <td>['esperienza', 'step', 'contatto', 'realtà', '...</td>\n",
              "      <td>259200000.0</td>\n",
              "      <td>2022-01-29T17:54:42.761Z</td>\n",
              "      <td>2022-01-29T17:54:42.000+00:00</td>\n",
              "      <td>0</td>\n",
              "      <td>42.0</td>\n",
              "      <td>0</td>\n",
              "      <td>0</td>\n",
              "      <td>0</td>\n",
              "      <td>0</td>\n",
              "      <td>0</td>\n",
              "      <td>1</td>\n",
              "      <td>4320.0</td>\n",
              "      <td>57</td>\n",
              "    </tr>\n",
              "    <tr>\n",
              "      <th>4352</th>\n",
              "      <td>61f668fa306802033034d239</td>\n",
              "      <td>536</td>\n",
              "      <td>['avventura']</td>\n",
              "      <td>['spalla', 'esperienza', 'lascito', 'vista', '...</td>\n",
              "      <td>57600000.0</td>\n",
              "      <td>2022-01-30T10:31:22.977Z</td>\n",
              "      <td>2022-01-30T10:31:22.000+00:00</td>\n",
              "      <td>0</td>\n",
              "      <td>35.0</td>\n",
              "      <td>0</td>\n",
              "      <td>0</td>\n",
              "      <td>0</td>\n",
              "      <td>0</td>\n",
              "      <td>0</td>\n",
              "      <td>1</td>\n",
              "      <td>960.0</td>\n",
              "      <td>57</td>\n",
              "    </tr>\n",
              "    <tr>\n",
              "      <th>4353</th>\n",
              "      <td>620bbf26b1675d6cc11232f8</td>\n",
              "      <td>431</td>\n",
              "      <td>['loma', 'polmon']</td>\n",
              "      <td>['mese', 'sole', 'capital', 'nuvola', 'nebbia'...</td>\n",
              "      <td>9000000.0</td>\n",
              "      <td>2022-02-15T14:56:39.554Z</td>\n",
              "      <td>2022-02-15T14:56:38.000+00:00</td>\n",
              "      <td>1</td>\n",
              "      <td>37.0</td>\n",
              "      <td>0</td>\n",
              "      <td>0</td>\n",
              "      <td>0</td>\n",
              "      <td>0</td>\n",
              "      <td>0</td>\n",
              "      <td>1</td>\n",
              "      <td>150.0</td>\n",
              "      <td>41</td>\n",
              "    </tr>\n",
              "    <tr>\n",
              "      <th>4354</th>\n",
              "      <td>61f3c6add91e9928f6e0922a</td>\n",
              "      <td>431</td>\n",
              "      <td>['lima']</td>\n",
              "      <td>['angolo', 'turista', 'calor', 'gent', 'bellez...</td>\n",
              "      <td>172800000.0</td>\n",
              "      <td>2022-02-01T16:57:01.557Z</td>\n",
              "      <td>2022-01-28T10:34:21.000+00:00</td>\n",
              "      <td>1</td>\n",
              "      <td>51.0</td>\n",
              "      <td>0</td>\n",
              "      <td>0</td>\n",
              "      <td>0</td>\n",
              "      <td>0</td>\n",
              "      <td>0</td>\n",
              "      <td>1</td>\n",
              "      <td>2880.0</td>\n",
              "      <td>59</td>\n",
              "    </tr>\n",
              "    <tr>\n",
              "      <th>4355</th>\n",
              "      <td>61fae86453a6a72116188980</td>\n",
              "      <td>158</td>\n",
              "      <td>[]</td>\n",
              "      <td>['viaggio', 'dubbio', 'isola', 'galapago', '50...</td>\n",
              "      <td>345600000.0</td>\n",
              "      <td>2022-02-07T19:19:09.439Z</td>\n",
              "      <td>2022-02-02T20:24:04.000+00:00</td>\n",
              "      <td>3</td>\n",
              "      <td>75.0</td>\n",
              "      <td>0</td>\n",
              "      <td>0</td>\n",
              "      <td>0</td>\n",
              "      <td>0</td>\n",
              "      <td>0</td>\n",
              "      <td>1</td>\n",
              "      <td>5760.0</td>\n",
              "      <td>53</td>\n",
              "    </tr>\n",
              "  </tbody>\n",
              "</table>\n",
              "<p>4356 rows × 17 columns</p>\n",
              "</div>\n",
              "      <button class=\"colab-df-convert\" onclick=\"convertToInteractive('df-097edb6c-b175-405f-8698-3f8dc749f11a')\"\n",
              "              title=\"Convert this dataframe to an interactive table.\"\n",
              "              style=\"display:none;\">\n",
              "        \n",
              "  <svg xmlns=\"http://www.w3.org/2000/svg\" height=\"24px\"viewBox=\"0 0 24 24\"\n",
              "       width=\"24px\">\n",
              "    <path d=\"M0 0h24v24H0V0z\" fill=\"none\"/>\n",
              "    <path d=\"M18.56 5.44l.94 2.06.94-2.06 2.06-.94-2.06-.94-.94-2.06-.94 2.06-2.06.94zm-11 1L8.5 8.5l.94-2.06 2.06-.94-2.06-.94L8.5 2.5l-.94 2.06-2.06.94zm10 10l.94 2.06.94-2.06 2.06-.94-2.06-.94-.94-2.06-.94 2.06-2.06.94z\"/><path d=\"M17.41 7.96l-1.37-1.37c-.4-.4-.92-.59-1.43-.59-.52 0-1.04.2-1.43.59L10.3 9.45l-7.72 7.72c-.78.78-.78 2.05 0 2.83L4 21.41c.39.39.9.59 1.41.59.51 0 1.02-.2 1.41-.59l7.78-7.78 2.81-2.81c.8-.78.8-2.07 0-2.86zM5.41 20L4 18.59l7.72-7.72 1.47 1.35L5.41 20z\"/>\n",
              "  </svg>\n",
              "      </button>\n",
              "      \n",
              "  <style>\n",
              "    .colab-df-container {\n",
              "      display:flex;\n",
              "      flex-wrap:wrap;\n",
              "      gap: 12px;\n",
              "    }\n",
              "\n",
              "    .colab-df-convert {\n",
              "      background-color: #E8F0FE;\n",
              "      border: none;\n",
              "      border-radius: 50%;\n",
              "      cursor: pointer;\n",
              "      display: none;\n",
              "      fill: #1967D2;\n",
              "      height: 32px;\n",
              "      padding: 0 0 0 0;\n",
              "      width: 32px;\n",
              "    }\n",
              "\n",
              "    .colab-df-convert:hover {\n",
              "      background-color: #E2EBFA;\n",
              "      box-shadow: 0px 1px 2px rgba(60, 64, 67, 0.3), 0px 1px 3px 1px rgba(60, 64, 67, 0.15);\n",
              "      fill: #174EA6;\n",
              "    }\n",
              "\n",
              "    [theme=dark] .colab-df-convert {\n",
              "      background-color: #3B4455;\n",
              "      fill: #D2E3FC;\n",
              "    }\n",
              "\n",
              "    [theme=dark] .colab-df-convert:hover {\n",
              "      background-color: #434B5C;\n",
              "      box-shadow: 0px 1px 3px 1px rgba(0, 0, 0, 0.15);\n",
              "      filter: drop-shadow(0px 1px 2px rgba(0, 0, 0, 0.3));\n",
              "      fill: #FFFFFF;\n",
              "    }\n",
              "  </style>\n",
              "\n",
              "      <script>\n",
              "        const buttonEl =\n",
              "          document.querySelector('#df-097edb6c-b175-405f-8698-3f8dc749f11a button.colab-df-convert');\n",
              "        buttonEl.style.display =\n",
              "          google.colab.kernel.accessAllowed ? 'block' : 'none';\n",
              "\n",
              "        async function convertToInteractive(key) {\n",
              "          const element = document.querySelector('#df-097edb6c-b175-405f-8698-3f8dc749f11a');\n",
              "          const dataTable =\n",
              "            await google.colab.kernel.invokeFunction('convertToInteractive',\n",
              "                                                     [key], {});\n",
              "          if (!dataTable) return;\n",
              "\n",
              "          const docLinkHtml = 'Like what you see? Visit the ' +\n",
              "            '<a target=\"_blank\" href=https://colab.research.google.com/notebooks/data_table.ipynb>data table notebook</a>'\n",
              "            + ' to learn more about interactive tables.';\n",
              "          element.innerHTML = '';\n",
              "          dataTable['output_type'] = 'display_data';\n",
              "          await google.colab.output.renderOutput(dataTable, element);\n",
              "          const docLink = document.createElement('div');\n",
              "          docLink.innerHTML = docLinkHtml;\n",
              "          element.appendChild(docLink);\n",
              "        }\n",
              "      </script>\n",
              "    </div>\n",
              "  </div>\n",
              "  "
            ]
          },
          "metadata": {},
          "execution_count": 7
        }
      ]
    },
    {
      "cell_type": "markdown",
      "source": [
        "# Tf-Idf"
      ],
      "metadata": {
        "id": "0nHMfRid3OXs"
      }
    },
    {
      "cell_type": "code",
      "execution_count": 8,
      "metadata": {
        "id": "JFNv5GxjpPAH"
      },
      "outputs": [],
      "source": [
        "def compute_tfidf_category(data, category:str):\n",
        "  tfidf_vectorizer = TfidfVectorizer(lowercase=False,\n",
        "                                          min_df=3,\n",
        "                                          max_df=0.25)\n",
        "  # description and title are put together\n",
        "  data_category = data[data[category]!=0]\n",
        "  text = data_category['description'] + data_category['title']\n",
        "  tfidf_schede = tfidf_vectorizer.fit_transform(text)\n",
        "  dense_text = tfidf_schede.todense()\n",
        "  denselist_text = dense_text.tolist()\n",
        "\n",
        "  dataset_text_tfidf = pd.DataFrame(denselist_text, index=data_category.index,\n",
        "                                    columns=tfidf_vectorizer.get_feature_names())\n",
        "\n",
        "  return dataset_text_tfidf"
      ]
    },
    {
      "cell_type": "code",
      "source": [
        "# categories = [\"aria aperta\", \"cultura\", \"food\", \"sport\", \"tempo libero\", \"viaggi\"]\n",
        "# category = \"food\"\n",
        "# df_tfidf = compute_tfidf_category(data, category=category)\n",
        "# df_tfidf"
      ],
      "metadata": {
        "id": "XHASKm0xXmGc"
      },
      "execution_count": 9,
      "outputs": []
    },
    {
      "cell_type": "code",
      "source": [
        "categories = [\"aria aperta\", \"cultura\", \"food\", \"sport\", \"tempo libero\", \"viaggi\"]\n",
        "tfidf_dict = dict()\n",
        "for c in categories:\n",
        "  tfidf_dict[c] = compute_tfidf_category(data, category=c)"
      ],
      "metadata": {
        "id": "9-pjUYjpzEao"
      },
      "execution_count": 10,
      "outputs": []
    },
    {
      "cell_type": "code",
      "source": [
        "tfidf_dict[\"food\"]"
      ],
      "metadata": {
        "colab": {
          "base_uri": "https://localhost:8080/",
          "height": 424
        },
        "id": "QOYCQiecuBLq",
        "outputId": "afe2fe21-b48b-4a8a-e031-81cddf7ce63c"
      },
      "execution_count": 35,
      "outputs": [
        {
          "output_type": "execute_result",
          "data": {
            "text/plain": [
              "       10  180  abbacchio  abbinamento  abbondanza  abbuffata  abilità  \\\n",
              "18    0.0  0.0        0.0          0.0         0.0        0.0      0.0   \n",
              "20    0.0  0.0        0.0          0.0         0.0        0.0      0.0   \n",
              "34    0.0  0.0        0.0          0.0         0.0        0.0      0.0   \n",
              "56    0.0  0.0        0.0          0.0         0.0        0.0      0.0   \n",
              "66    0.0  0.0        0.0          0.0         0.0        0.0      0.0   \n",
              "...   ...  ...        ...          ...         ...        ...      ...   \n",
              "4256  0.0  0.0        0.0          0.0         0.0        0.0      0.0   \n",
              "4263  0.0  0.0        0.0          0.0         0.0        0.0      0.0   \n",
              "4269  0.0  0.0        0.0          0.0         0.0        0.0      0.0   \n",
              "4309  0.0  0.0        0.0          0.0         0.0        0.0      0.0   \n",
              "4313  0.0  0.0        0.0          0.0         0.0        0.0      0.0   \n",
              "\n",
              "      abitant  abitazion  abito  ...  zia  zio  zoccolett      zona  zucca  \\\n",
              "18        0.0        0.0    0.0  ...  0.0  0.0        0.0  0.000000    0.0   \n",
              "20        0.0        0.0    0.0  ...  0.0  0.0        0.0  0.000000    0.0   \n",
              "34        0.0        0.0    0.0  ...  0.0  0.0        0.0  0.140543    0.0   \n",
              "56        0.0        0.0    0.0  ...  0.0  0.0        0.0  0.000000    0.0   \n",
              "66        0.0        0.0    0.0  ...  0.0  0.0        0.0  0.000000    0.0   \n",
              "...       ...        ...    ...  ...  ...  ...        ...       ...    ...   \n",
              "4256      0.0        0.0    0.0  ...  0.0  0.0        0.0  0.000000    0.0   \n",
              "4263      0.0        0.0    0.0  ...  0.0  0.0        0.0  0.000000    0.0   \n",
              "4269      0.0        0.0    0.0  ...  0.0  0.0        0.0  0.000000    0.0   \n",
              "4309      0.0        0.0    0.0  ...  0.0  0.0        0.0  0.000000    0.0   \n",
              "4313      0.0        0.0    0.0  ...  0.0  0.0        0.0  0.028658    0.0   \n",
              "\n",
              "      zucchero  zucchin  zucchina    zuppa  zuppetta  \n",
              "18    0.000000      0.0       0.0  0.00000       0.0  \n",
              "20    0.000000      0.0       0.0  0.00000       0.0  \n",
              "34    0.102703      0.0       0.0  0.00000       0.0  \n",
              "56    0.105997      0.0       0.0  0.00000       0.0  \n",
              "66    0.000000      0.0       0.0  0.00000       0.0  \n",
              "...        ...      ...       ...      ...       ...  \n",
              "4256  0.218150      0.0       0.0  0.00000       0.0  \n",
              "4263  0.000000      0.0       0.0  0.00000       0.0  \n",
              "4269  0.000000      0.0       0.0  0.00000       0.0  \n",
              "4309  0.000000      0.0       0.0  0.23489       0.0  \n",
              "4313  0.000000      0.0       0.0  0.00000       0.0  \n",
              "\n",
              "[1092 rows x 2608 columns]"
            ],
            "text/html": [
              "\n",
              "  <div id=\"df-d0795999-f280-496c-99bb-9d2422d4761f\">\n",
              "    <div class=\"colab-df-container\">\n",
              "      <div>\n",
              "<style scoped>\n",
              "    .dataframe tbody tr th:only-of-type {\n",
              "        vertical-align: middle;\n",
              "    }\n",
              "\n",
              "    .dataframe tbody tr th {\n",
              "        vertical-align: top;\n",
              "    }\n",
              "\n",
              "    .dataframe thead th {\n",
              "        text-align: right;\n",
              "    }\n",
              "</style>\n",
              "<table border=\"1\" class=\"dataframe\">\n",
              "  <thead>\n",
              "    <tr style=\"text-align: right;\">\n",
              "      <th></th>\n",
              "      <th>10</th>\n",
              "      <th>180</th>\n",
              "      <th>abbacchio</th>\n",
              "      <th>abbinamento</th>\n",
              "      <th>abbondanza</th>\n",
              "      <th>abbuffata</th>\n",
              "      <th>abilità</th>\n",
              "      <th>abitant</th>\n",
              "      <th>abitazion</th>\n",
              "      <th>abito</th>\n",
              "      <th>...</th>\n",
              "      <th>zia</th>\n",
              "      <th>zio</th>\n",
              "      <th>zoccolett</th>\n",
              "      <th>zona</th>\n",
              "      <th>zucca</th>\n",
              "      <th>zucchero</th>\n",
              "      <th>zucchin</th>\n",
              "      <th>zucchina</th>\n",
              "      <th>zuppa</th>\n",
              "      <th>zuppetta</th>\n",
              "    </tr>\n",
              "  </thead>\n",
              "  <tbody>\n",
              "    <tr>\n",
              "      <th>18</th>\n",
              "      <td>0.0</td>\n",
              "      <td>0.0</td>\n",
              "      <td>0.0</td>\n",
              "      <td>0.0</td>\n",
              "      <td>0.0</td>\n",
              "      <td>0.0</td>\n",
              "      <td>0.0</td>\n",
              "      <td>0.0</td>\n",
              "      <td>0.0</td>\n",
              "      <td>0.0</td>\n",
              "      <td>...</td>\n",
              "      <td>0.0</td>\n",
              "      <td>0.0</td>\n",
              "      <td>0.0</td>\n",
              "      <td>0.000000</td>\n",
              "      <td>0.0</td>\n",
              "      <td>0.000000</td>\n",
              "      <td>0.0</td>\n",
              "      <td>0.0</td>\n",
              "      <td>0.00000</td>\n",
              "      <td>0.0</td>\n",
              "    </tr>\n",
              "    <tr>\n",
              "      <th>20</th>\n",
              "      <td>0.0</td>\n",
              "      <td>0.0</td>\n",
              "      <td>0.0</td>\n",
              "      <td>0.0</td>\n",
              "      <td>0.0</td>\n",
              "      <td>0.0</td>\n",
              "      <td>0.0</td>\n",
              "      <td>0.0</td>\n",
              "      <td>0.0</td>\n",
              "      <td>0.0</td>\n",
              "      <td>...</td>\n",
              "      <td>0.0</td>\n",
              "      <td>0.0</td>\n",
              "      <td>0.0</td>\n",
              "      <td>0.000000</td>\n",
              "      <td>0.0</td>\n",
              "      <td>0.000000</td>\n",
              "      <td>0.0</td>\n",
              "      <td>0.0</td>\n",
              "      <td>0.00000</td>\n",
              "      <td>0.0</td>\n",
              "    </tr>\n",
              "    <tr>\n",
              "      <th>34</th>\n",
              "      <td>0.0</td>\n",
              "      <td>0.0</td>\n",
              "      <td>0.0</td>\n",
              "      <td>0.0</td>\n",
              "      <td>0.0</td>\n",
              "      <td>0.0</td>\n",
              "      <td>0.0</td>\n",
              "      <td>0.0</td>\n",
              "      <td>0.0</td>\n",
              "      <td>0.0</td>\n",
              "      <td>...</td>\n",
              "      <td>0.0</td>\n",
              "      <td>0.0</td>\n",
              "      <td>0.0</td>\n",
              "      <td>0.140543</td>\n",
              "      <td>0.0</td>\n",
              "      <td>0.102703</td>\n",
              "      <td>0.0</td>\n",
              "      <td>0.0</td>\n",
              "      <td>0.00000</td>\n",
              "      <td>0.0</td>\n",
              "    </tr>\n",
              "    <tr>\n",
              "      <th>56</th>\n",
              "      <td>0.0</td>\n",
              "      <td>0.0</td>\n",
              "      <td>0.0</td>\n",
              "      <td>0.0</td>\n",
              "      <td>0.0</td>\n",
              "      <td>0.0</td>\n",
              "      <td>0.0</td>\n",
              "      <td>0.0</td>\n",
              "      <td>0.0</td>\n",
              "      <td>0.0</td>\n",
              "      <td>...</td>\n",
              "      <td>0.0</td>\n",
              "      <td>0.0</td>\n",
              "      <td>0.0</td>\n",
              "      <td>0.000000</td>\n",
              "      <td>0.0</td>\n",
              "      <td>0.105997</td>\n",
              "      <td>0.0</td>\n",
              "      <td>0.0</td>\n",
              "      <td>0.00000</td>\n",
              "      <td>0.0</td>\n",
              "    </tr>\n",
              "    <tr>\n",
              "      <th>66</th>\n",
              "      <td>0.0</td>\n",
              "      <td>0.0</td>\n",
              "      <td>0.0</td>\n",
              "      <td>0.0</td>\n",
              "      <td>0.0</td>\n",
              "      <td>0.0</td>\n",
              "      <td>0.0</td>\n",
              "      <td>0.0</td>\n",
              "      <td>0.0</td>\n",
              "      <td>0.0</td>\n",
              "      <td>...</td>\n",
              "      <td>0.0</td>\n",
              "      <td>0.0</td>\n",
              "      <td>0.0</td>\n",
              "      <td>0.000000</td>\n",
              "      <td>0.0</td>\n",
              "      <td>0.000000</td>\n",
              "      <td>0.0</td>\n",
              "      <td>0.0</td>\n",
              "      <td>0.00000</td>\n",
              "      <td>0.0</td>\n",
              "    </tr>\n",
              "    <tr>\n",
              "      <th>...</th>\n",
              "      <td>...</td>\n",
              "      <td>...</td>\n",
              "      <td>...</td>\n",
              "      <td>...</td>\n",
              "      <td>...</td>\n",
              "      <td>...</td>\n",
              "      <td>...</td>\n",
              "      <td>...</td>\n",
              "      <td>...</td>\n",
              "      <td>...</td>\n",
              "      <td>...</td>\n",
              "      <td>...</td>\n",
              "      <td>...</td>\n",
              "      <td>...</td>\n",
              "      <td>...</td>\n",
              "      <td>...</td>\n",
              "      <td>...</td>\n",
              "      <td>...</td>\n",
              "      <td>...</td>\n",
              "      <td>...</td>\n",
              "      <td>...</td>\n",
              "    </tr>\n",
              "    <tr>\n",
              "      <th>4256</th>\n",
              "      <td>0.0</td>\n",
              "      <td>0.0</td>\n",
              "      <td>0.0</td>\n",
              "      <td>0.0</td>\n",
              "      <td>0.0</td>\n",
              "      <td>0.0</td>\n",
              "      <td>0.0</td>\n",
              "      <td>0.0</td>\n",
              "      <td>0.0</td>\n",
              "      <td>0.0</td>\n",
              "      <td>...</td>\n",
              "      <td>0.0</td>\n",
              "      <td>0.0</td>\n",
              "      <td>0.0</td>\n",
              "      <td>0.000000</td>\n",
              "      <td>0.0</td>\n",
              "      <td>0.218150</td>\n",
              "      <td>0.0</td>\n",
              "      <td>0.0</td>\n",
              "      <td>0.00000</td>\n",
              "      <td>0.0</td>\n",
              "    </tr>\n",
              "    <tr>\n",
              "      <th>4263</th>\n",
              "      <td>0.0</td>\n",
              "      <td>0.0</td>\n",
              "      <td>0.0</td>\n",
              "      <td>0.0</td>\n",
              "      <td>0.0</td>\n",
              "      <td>0.0</td>\n",
              "      <td>0.0</td>\n",
              "      <td>0.0</td>\n",
              "      <td>0.0</td>\n",
              "      <td>0.0</td>\n",
              "      <td>...</td>\n",
              "      <td>0.0</td>\n",
              "      <td>0.0</td>\n",
              "      <td>0.0</td>\n",
              "      <td>0.000000</td>\n",
              "      <td>0.0</td>\n",
              "      <td>0.000000</td>\n",
              "      <td>0.0</td>\n",
              "      <td>0.0</td>\n",
              "      <td>0.00000</td>\n",
              "      <td>0.0</td>\n",
              "    </tr>\n",
              "    <tr>\n",
              "      <th>4269</th>\n",
              "      <td>0.0</td>\n",
              "      <td>0.0</td>\n",
              "      <td>0.0</td>\n",
              "      <td>0.0</td>\n",
              "      <td>0.0</td>\n",
              "      <td>0.0</td>\n",
              "      <td>0.0</td>\n",
              "      <td>0.0</td>\n",
              "      <td>0.0</td>\n",
              "      <td>0.0</td>\n",
              "      <td>...</td>\n",
              "      <td>0.0</td>\n",
              "      <td>0.0</td>\n",
              "      <td>0.0</td>\n",
              "      <td>0.000000</td>\n",
              "      <td>0.0</td>\n",
              "      <td>0.000000</td>\n",
              "      <td>0.0</td>\n",
              "      <td>0.0</td>\n",
              "      <td>0.00000</td>\n",
              "      <td>0.0</td>\n",
              "    </tr>\n",
              "    <tr>\n",
              "      <th>4309</th>\n",
              "      <td>0.0</td>\n",
              "      <td>0.0</td>\n",
              "      <td>0.0</td>\n",
              "      <td>0.0</td>\n",
              "      <td>0.0</td>\n",
              "      <td>0.0</td>\n",
              "      <td>0.0</td>\n",
              "      <td>0.0</td>\n",
              "      <td>0.0</td>\n",
              "      <td>0.0</td>\n",
              "      <td>...</td>\n",
              "      <td>0.0</td>\n",
              "      <td>0.0</td>\n",
              "      <td>0.0</td>\n",
              "      <td>0.000000</td>\n",
              "      <td>0.0</td>\n",
              "      <td>0.000000</td>\n",
              "      <td>0.0</td>\n",
              "      <td>0.0</td>\n",
              "      <td>0.23489</td>\n",
              "      <td>0.0</td>\n",
              "    </tr>\n",
              "    <tr>\n",
              "      <th>4313</th>\n",
              "      <td>0.0</td>\n",
              "      <td>0.0</td>\n",
              "      <td>0.0</td>\n",
              "      <td>0.0</td>\n",
              "      <td>0.0</td>\n",
              "      <td>0.0</td>\n",
              "      <td>0.0</td>\n",
              "      <td>0.0</td>\n",
              "      <td>0.0</td>\n",
              "      <td>0.0</td>\n",
              "      <td>...</td>\n",
              "      <td>0.0</td>\n",
              "      <td>0.0</td>\n",
              "      <td>0.0</td>\n",
              "      <td>0.028658</td>\n",
              "      <td>0.0</td>\n",
              "      <td>0.000000</td>\n",
              "      <td>0.0</td>\n",
              "      <td>0.0</td>\n",
              "      <td>0.00000</td>\n",
              "      <td>0.0</td>\n",
              "    </tr>\n",
              "  </tbody>\n",
              "</table>\n",
              "<p>1092 rows × 2608 columns</p>\n",
              "</div>\n",
              "      <button class=\"colab-df-convert\" onclick=\"convertToInteractive('df-d0795999-f280-496c-99bb-9d2422d4761f')\"\n",
              "              title=\"Convert this dataframe to an interactive table.\"\n",
              "              style=\"display:none;\">\n",
              "        \n",
              "  <svg xmlns=\"http://www.w3.org/2000/svg\" height=\"24px\"viewBox=\"0 0 24 24\"\n",
              "       width=\"24px\">\n",
              "    <path d=\"M0 0h24v24H0V0z\" fill=\"none\"/>\n",
              "    <path d=\"M18.56 5.44l.94 2.06.94-2.06 2.06-.94-2.06-.94-.94-2.06-.94 2.06-2.06.94zm-11 1L8.5 8.5l.94-2.06 2.06-.94-2.06-.94L8.5 2.5l-.94 2.06-2.06.94zm10 10l.94 2.06.94-2.06 2.06-.94-2.06-.94-.94-2.06-.94 2.06-2.06.94z\"/><path d=\"M17.41 7.96l-1.37-1.37c-.4-.4-.92-.59-1.43-.59-.52 0-1.04.2-1.43.59L10.3 9.45l-7.72 7.72c-.78.78-.78 2.05 0 2.83L4 21.41c.39.39.9.59 1.41.59.51 0 1.02-.2 1.41-.59l7.78-7.78 2.81-2.81c.8-.78.8-2.07 0-2.86zM5.41 20L4 18.59l7.72-7.72 1.47 1.35L5.41 20z\"/>\n",
              "  </svg>\n",
              "      </button>\n",
              "      \n",
              "  <style>\n",
              "    .colab-df-container {\n",
              "      display:flex;\n",
              "      flex-wrap:wrap;\n",
              "      gap: 12px;\n",
              "    }\n",
              "\n",
              "    .colab-df-convert {\n",
              "      background-color: #E8F0FE;\n",
              "      border: none;\n",
              "      border-radius: 50%;\n",
              "      cursor: pointer;\n",
              "      display: none;\n",
              "      fill: #1967D2;\n",
              "      height: 32px;\n",
              "      padding: 0 0 0 0;\n",
              "      width: 32px;\n",
              "    }\n",
              "\n",
              "    .colab-df-convert:hover {\n",
              "      background-color: #E2EBFA;\n",
              "      box-shadow: 0px 1px 2px rgba(60, 64, 67, 0.3), 0px 1px 3px 1px rgba(60, 64, 67, 0.15);\n",
              "      fill: #174EA6;\n",
              "    }\n",
              "\n",
              "    [theme=dark] .colab-df-convert {\n",
              "      background-color: #3B4455;\n",
              "      fill: #D2E3FC;\n",
              "    }\n",
              "\n",
              "    [theme=dark] .colab-df-convert:hover {\n",
              "      background-color: #434B5C;\n",
              "      box-shadow: 0px 1px 3px 1px rgba(0, 0, 0, 0.15);\n",
              "      filter: drop-shadow(0px 1px 2px rgba(0, 0, 0, 0.3));\n",
              "      fill: #FFFFFF;\n",
              "    }\n",
              "  </style>\n",
              "\n",
              "      <script>\n",
              "        const buttonEl =\n",
              "          document.querySelector('#df-d0795999-f280-496c-99bb-9d2422d4761f button.colab-df-convert');\n",
              "        buttonEl.style.display =\n",
              "          google.colab.kernel.accessAllowed ? 'block' : 'none';\n",
              "\n",
              "        async function convertToInteractive(key) {\n",
              "          const element = document.querySelector('#df-d0795999-f280-496c-99bb-9d2422d4761f');\n",
              "          const dataTable =\n",
              "            await google.colab.kernel.invokeFunction('convertToInteractive',\n",
              "                                                     [key], {});\n",
              "          if (!dataTable) return;\n",
              "\n",
              "          const docLinkHtml = 'Like what you see? Visit the ' +\n",
              "            '<a target=\"_blank\" href=https://colab.research.google.com/notebooks/data_table.ipynb>data table notebook</a>'\n",
              "            + ' to learn more about interactive tables.';\n",
              "          element.innerHTML = '';\n",
              "          dataTable['output_type'] = 'display_data';\n",
              "          await google.colab.output.renderOutput(dataTable, element);\n",
              "          const docLink = document.createElement('div');\n",
              "          docLink.innerHTML = docLinkHtml;\n",
              "          element.appendChild(docLink);\n",
              "        }\n",
              "      </script>\n",
              "    </div>\n",
              "  </div>\n",
              "  "
            ]
          },
          "metadata": {},
          "execution_count": 35
        }
      ]
    },
    {
      "cell_type": "markdown",
      "source": [
        "# Embeddings"
      ],
      "metadata": {
        "id": "L8_Fe3eU47tz"
      }
    },
    {
      "cell_type": "markdown",
      "source": [
        "## Word2Vec"
      ],
      "metadata": {
        "id": "U3IOAuVPBtJQ"
      }
    },
    {
      "cell_type": "code",
      "source": [
        ""
      ],
      "metadata": {
        "id": "xIEedSQH4_D2"
      },
      "execution_count": 60,
      "outputs": []
    },
    {
      "cell_type": "markdown",
      "source": [
        "## Transformers"
      ],
      "metadata": {
        "id": "r4AkwWNEBxFu"
      }
    },
    {
      "cell_type": "code",
      "source": [
        ""
      ],
      "metadata": {
        "id": "NfuXWvO-B19o"
      },
      "execution_count": 60,
      "outputs": []
    },
    {
      "cell_type": "markdown",
      "source": [
        "# Recommender systems"
      ],
      "metadata": {
        "id": "TwRPNGsS3V6k"
      }
    },
    {
      "cell_type": "markdown",
      "source": [
        "## **Method \\#1**"
      ],
      "metadata": {
        "id": "Eo5jkD2L3YrW"
      }
    },
    {
      "cell_type": "markdown",
      "metadata": {
        "id": "wUBKfiOrpPAI"
      },
      "source": [
        "**Method #1:** Recommend posts that are similar to the ones that the user liked -> use cosine similarity on tf-idf"
      ]
    },
    {
      "cell_type": "code",
      "source": [
        "df_likes_ids.userId.drop_duplicates().isin(data.userId.drop_duplicates())"
      ],
      "metadata": {
        "colab": {
          "base_uri": "https://localhost:8080/"
        },
        "id": "gvtsUntjCUVu",
        "outputId": "44782fc2-e5e9-4702-c890-d89931b81a39"
      },
      "execution_count": null,
      "outputs": [
        {
          "output_type": "execute_result",
          "data": {
            "text/plain": [
              "0        True\n",
              "1        True\n",
              "3        True\n",
              "5        True\n",
              "6       False\n",
              "        ...  \n",
              "1338    False\n",
              "1425     True\n",
              "1458    False\n",
              "1459    False\n",
              "1468    False\n",
              "Name: userId, Length: 116, dtype: bool"
            ]
          },
          "metadata": {},
          "execution_count": 120
        }
      ]
    },
    {
      "cell_type": "code",
      "execution_count": null,
      "metadata": {
        "id": "M9hlCUdgpPAI",
        "outputId": "79fc258f-eccc-4430-9a5d-17565816d540",
        "colab": {
          "base_uri": "https://localhost:8080/"
        }
      },
      "outputs": [
        {
          "output_type": "execute_result",
          "data": {
            "text/plain": [
              "userId\n",
              "114    [61447a3224c29e59fe4c06ab, 61824f5f21889d3548f...\n",
              "119    [6172da4472b6f336088b932b, 6218ec9f29ef4a75805...\n",
              "129    [615acf21eb3bf47494b8e64b, 61aa039788b2e606829...\n",
              "149    [61faf5d953a6a72116188d5b, 61f41fe330680203303...\n",
              "150    [61b72f34e364b82f2ac8c88c, 61f3c801d91e9928f6e...\n",
              "                             ...                        \n",
              "630    [62215a990a0ebd53f7469748, 62174fea99163528c06...\n",
              "632                           [6229df13aeb26768dc408e81]\n",
              "637    [6212993a4f9d177c90f3830f, 6224bdb835684f072b2...\n",
              "639                           [620a39a4e7ce7d5992612316]\n",
              "640    [622aeada99fd4c40442f3082, 6217ab40ae6735171d5...\n",
              "Name: id, Length: 116, dtype: object"
            ]
          },
          "metadata": {},
          "execution_count": 121
        }
      ],
      "source": [
        "#list of user\n",
        "users = pd.concat([df_likes_ids.userId, data.userId]).drop_duplicates() #some ids in likes are not in posts -> some users liked posts but not posted one\n",
        "#list of posts' id\n",
        "posts = data.id\n",
        "#list of users and posts they liked\n",
        "users_likes = df_likes_ids.groupby(\"userId\").id.apply(list)\n",
        "users_likes"
      ]
    },
    {
      "cell_type": "code",
      "execution_count": null,
      "metadata": {
        "id": "FmapPXpFpPAJ"
      },
      "outputs": [],
      "source": [
        "cosine_sim = cosine_similarity(df_tfidf, df_tfidf)"
      ]
    },
    {
      "cell_type": "code",
      "execution_count": null,
      "metadata": {
        "id": "7i0DdcMJpPAJ"
      },
      "outputs": [],
      "source": [
        "def get_recommendations(user_id: int):\n",
        "    # Get the index of the user that we want to recommend posts to\n",
        "    user_id_idx = df_schede[df_schede == user_id].index[0]\n",
        "    # Get the pairwise similarity scores of all posts with that user\n",
        "    sim_scores = list(enumerate(cosine_sim[user_id_idx]))\n",
        "    # Sort the posts based on the similarity scores\n",
        "    sim_scores = sorted(sim_scores, key=lambda x: x[1], reverse=True)\n",
        "    # Get the scores of the 5 most similar posts\n",
        "    sim_scores = sim_scores[1:6]\n",
        "    # Get the blog post ids\n",
        "    post_ids = [i[0] for i in sim_scores]\n",
        "    # Return the blog posts\n",
        "    return df_schede.iloc[post_ids]\n",
        "\n",
        "def print_recommendations(recommended_posts):\n",
        "    for i in range(len(recommended_posts)):\n",
        "        print(\"Post #\" + str(i+1) + \":\")\n",
        "        print(\"Post ID: \" + str(recommended_posts.iloc[i].id))\n",
        "        print(\"Title: \" + str(recommended_posts.iloc[i].title))\n",
        "        print(\"Description: \" + str(recommended_posts.iloc[i].description))\n",
        "        print(\"\\n\")"
      ]
    },
    {
      "cell_type": "code",
      "execution_count": null,
      "metadata": {
        "id": "I1AzcG8YpPAJ",
        "outputId": "de3d43c5-c061-4036-dca8-4ef81cd3f7ce",
        "colab": {
          "base_uri": "https://localhost:8080/"
        }
      },
      "outputs": [
        {
          "output_type": "stream",
          "name": "stdout",
          "text": [
            "Posts:\n",
            "92    Bemo - immergiti nella vita locale indonesiana\n",
            "Name: title, dtype: object\n",
            "----------------------------------------------------------------------------------------------------\n"
          ]
        }
      ],
      "source": [
        "id = 632\n",
        "#print(\"Posts that user {} liked:\".format(id))\n",
        "liked_posts = df_likes_ids[df_likes_ids[\"userId\"] == id]\n",
        "#print(liked_posts)\n",
        "print(\"Posts:\")\n",
        "for _,p in liked_posts.iterrows():\n",
        "    post = df_schede[df_schede[\"id\"]== p[\"id\"]]\n",
        "    if not post.description.empty:\n",
        "        print(post.title)\n",
        "        print(\"-\"*100)"
      ]
    },
    {
      "cell_type": "code",
      "execution_count": null,
      "metadata": {
        "id": "XjenmoitpPAK",
        "outputId": "8e9a6c67-c822-4e2d-ecf0-8910c3991562",
        "colab": {
          "base_uri": "https://localhost:8080/"
        }
      },
      "outputs": [
        {
          "output_type": "stream",
          "name": "stdout",
          "text": [
            "Post #1:\n",
            "Post ID: 620675bcb1d0940f12255a3a\n",
            "Title: Piazza Tienanmen\n",
            "Description: Piazza Tienanmen con i suoi 440.000 metri quadrati è la piazza pubblica più grandi del mondo: può ospitare circa un milione di persone al suo interno. \n",
            "\n",
            "Data la vicinanza con il Palazzo dell'Assemblea Nazionale, la piazza è recintata e circondata da polizia e forze armate. Durante i congressi o gli eventi politici importanti è spesso chiusa al pubblico, talvolta anche senza preavviso.\n",
            "\n",
            "Potete salire sulla Porta della Pace Celeste (Porta Tienanmen, da dove il ritratto di Mao guarda la città) e guardare tutta la piazza dall'alto, oppure passeggiare in mezzo ai turisti cinesi che rendono omaggio a Mao Zedong e ai caduti.\n",
            "\n",
            "Noi andiamo durante il 70esimo anniversario e la polizia è ovunque! Tutti i percorsi sono guidati e i controlli sono a tappeto! Comprensibile ma decisamente eccessivo!! \n",
            "\n",
            "Ho una sola foto in mente quando si parla di piazza tienenmen….ovvero quella con i carri armati fermati da un giovane ribelle! \n",
            "\n",
            "La piazza si presenta ovviamente in vesti differenti, di tutto punto per la festa della repubblica! Dimensioni giganti! Non si vede la fine a vista d’occhio. In esposizione troviamo anche un’enorme scultura dedicata alla festa.\n",
            "\n",
            "Si respira un’aria particolare per via della festa ma anche dei troppi controlli!! Clima quasi surreale!  \n",
            "\n",
            "Esperienza e piazza bellissime ma ce ne andiamo con una sensazione particolare.\n",
            "\n",
            "\n",
            "Post #2:\n",
            "Post ID: 620d2b5925398565dadb6aab\n",
            "Title: L'oro verde di Salina\n",
            "Description: Il cappero di Salina, assoluto protagonista della cucina eoliana e presidio Slow Food, è l'orgoglio dell'isola.\n",
            "E' una pianta che cresce quasi ovunque, anche nelle fessure dei muri e delle rocce assolate. Ci sono zone dell'isola dedicate alla coltivazione specializzata, ma i capperi si trovano spesso anche nei giardini, nei frutteti, tra le viti e gli ulivi. \n",
            "Raccoglierli è faticoso, vanno presi a mano e poi messi sotto sale per conservarli, in apposite stanze nelle quali l'odore è fortissimo. \n",
            "Mi è capitato spesso di metterli in valigia tornando in città dalle Eolie, e anche se accuratamente imbustati riescono ad impregnare del loro aroma i vestiti, e a volte anche la valigia. \n",
            "Si trovano in vendita in diverse dimensioni e in diverse versioni anche inaspettate: il cappero candito ad esempio, dal quale sparisce la salinità che lascia spazio alla dolcezza con un sapore piuttosto sorprendente.\n",
            "Ci sono poi i cucunci, che nascono dalla fruttificazione del fiore dei capperi e sono un po' diversi nella forma, nel gusto e nella consistenza. Chiamati anche capperi giganti hanno una forma affusolata e allungata, e un lungo picciolo.\n",
            "Nei ristoranti, i capperi sono inseriti in moltissimi piatti: solo per citarne alcuni, insalata di polpo, totani ripieni, caponata, e sul celeberrimo pane cunzato.\n",
            "Un consiglio su tutti: non chiedete mai ad un cameriere di eliminare i capperi dal piatto che state ordinando! Se non li amate, scegliete un'altra cosa, ma non offendete gli isolani chiedendogli di toglierli!\n",
            "\n",
            "\n",
            "\n",
            "\n",
            "Post #3:\n",
            "Post ID: 61e18b3302eda64de31b02f2\n",
            "Title: I Boschi della Difesa di Pescasseroli\n",
            "Description: Tranquillo si presta all’escursionismo a piedi, con ciaspole da neve, a cavallo e in sella a mountain bike. Di particolare bellezza il bosco della Difesa, caratterizzato da alberi “a capitozzo” e attraversato dal sentiero C2, un anello di percorrenza relativamente facile, adatto alle famiglie.\n",
            "\n",
            "Il percorso è consigliato in tutte le stagioni; d’inverno potrebbe essere richiesto l’uso delle ciaspole, ma la magia è doppia!\n",
            "\n",
            "Il pranzo al sacco è l’ideale: si può consumare sul prato delle radure, all’ombra dei grandi faggi o seduti ai tavoli da picnic quando si arriva alla Baita di Padre Terzi.\n",
            "\n",
            "Il cammino, con circa 200 metri di dislivello, lungo cira 6 km a/r da percorrere in circa 4/5 ore  è adatto alle famiglie con bambini dai 6 anni in su (mia figlia 4 anni lo ha percorso tranquillamente).\n",
            "\n",
            "Noi ci siamo stati il primo dell’anno, un inizio anno diverso ma caratterizzato da una natura meravigliosa che riempie cuore e occhi di colori e di una serenità unica. Abbiamo incontrato tratti con neve altri soleggiati e verdi, spesso è capitato di doversi coprire o scoprire un po’ di più!\n",
            "Mio figlio di 8 anni è rimasto entusiasta sia della natura sia del senso di libertà che ha provato nel fare i percorsi (ha provato anche a saltare sui sassi del ruscello :-)\n",
            "\n",
            "\n",
            "Post #4:\n",
            "Post ID: 620935d7b1d0940f122597e0\n",
            "Title: Samurai sushi\n",
            "Description: Almeno una-due volte l'anno mi organizzo con gli amici per andare a mangiare insieme ad un ALL YOU CAN EAT al giapponese.\n",
            "\n",
            "Abbiamo sempre girati i diversi locali per provare le diverse specialità, ma ci son stati due annetti dove ci siamo sempre soffermati da Samurai, dove soprattutto all'inizio abbiamo trovato tanta qualità, in particolare con gli uramaki (quelli con i filamenti di patata fritta sopra erano SPAZIALI) e la salsa vicino il pollo fritto, davvero una goduria immensa.\n",
            "\n",
            "C'è da dire che dopo un po' come tutti ha perso in gusto e servizio, ma da Samurai troverete un buon posto dove gustare All You Can Eat!\n",
            "\n",
            "\n",
            "Post #5:\n",
            "Post ID: 6169640b27d0877f5c2141ac\n",
            "Title: Una passeggiata lungo il Sentiero Grotta Scura\n",
            "Description: Questa fine settimana sono stato in Abruzzo, bellissima area d'Italia, offre ai visitatori esperienze uniche e suggestive.\n",
            "Oltre al mare e alle montagne luoghi unici tra i quali Il parco acquatico Lavino che prende il nome dal fiume che lo attraversa.\n",
            "Le sue acque sono sulfuree e di un azzurro celestiale, che lo avvicina al Paradiso che solo guardandole mi hanno fatto sognare.\n",
            "Il fiume, che nasce dalla catena montuosa della Maiella, si immette nel fiume Pescara nei pressi di Scafa.\n",
            "Nell'itinerario è bellissimo ed interessante visitare la Grotta Scura, dove ammirare notevoli lavori artigianali neolitici.\n",
            "Questa grotta appare come una conca, formata dall'antico corso d'acqua con testimonianze della presenza di uomini ed animali delle caverne.\n",
            "Da molti è considerata un fiume fossile.\n",
            "Ritengo che per le emozioni che è riuscito a suscitare in me e per le bellezze naturali è da visitare ed apprezzare.\n",
            "\n",
            "      à \n",
            "\n",
            "\n",
            "\n"
          ]
        }
      ],
      "source": [
        "recommended_posts = get_recommendations(id)\n",
        "print_recommendations(recommended_posts)"
      ]
    },
    {
      "cell_type": "markdown",
      "source": [
        "## **Method \\#2**"
      ],
      "metadata": {
        "id": "diJ75kBJ3lRl"
      }
    },
    {
      "cell_type": "markdown",
      "metadata": {
        "id": "DdxL4gMzpPAK"
      },
      "source": [
        "**Method #2:** Given a user, shown him the posts that are more similar to the ones he wrote "
      ]
    },
    {
      "cell_type": "code",
      "execution_count": 11,
      "metadata": {
        "id": "9GZnbHIepPAK",
        "colab": {
          "base_uri": "https://localhost:8080/"
        },
        "outputId": "59b4f487-9f21-445e-ad0e-876daa66f791"
      },
      "outputs": [
        {
          "output_type": "execute_result",
          "data": {
            "text/plain": [
              "userId\n",
              "77     [6154833edee05f1877c59be1, 615c2b85eb3bf47494b...\n",
              "119    [60f6d6864250196f9f64270c, 60f6d2f54250196f9f6...\n",
              "129    [61408190533f2f326b89392b, 6140834d533f2f326b8...\n",
              "149    [6190e32f068a0f468cc78c24, 620fd14f4f9d177c90f...\n",
              "150    [61c9f24721c95d5d9109316d, 62263e1161e055356b8...\n",
              "                             ...                        \n",
              "632    [62355f98272ae5672fbc3ac7, 62349ff2272ae5672fb...\n",
              "633                           [621cf9fc2fd07a48dd9f139d]\n",
              "637    [621fe10a82ed1d1eef3a495c, 6228ffd7aeb26768dc4...\n",
              "640    [622f6e2d46ef2b6d71a8deb7, 622b7950c992ca28f33...\n",
              "642                           [623318fe0e1ee15c013192a1]\n",
              "Name: id, Length: 142, dtype: object"
            ]
          },
          "metadata": {},
          "execution_count": 11
        }
      ],
      "source": [
        "#list of user\n",
        "users = pd.concat([df_likes_ids.userId, data.userId]).drop_duplicates()\n",
        "#list of posts' id\n",
        "posts = data.id\n",
        "#list of users and posts they made\n",
        "users_posts = data.groupby(\"userId\").id.apply(list)\n",
        "users_posts"
      ]
    },
    {
      "cell_type": "code",
      "source": [
        "data_with_ids = data.drop(columns=[\"datePublishing\", \"creationDate\", \"duration\", \"description\", \"title\", \"counterUseful\", \"viewCounter\"])"
      ],
      "metadata": {
        "id": "Up3x_dZXBLPw"
      },
      "execution_count": 29,
      "outputs": []
    },
    {
      "cell_type": "code",
      "source": [
        "X = data.drop(columns=[\"id\", \"userId\", \"description\", \"title\", \"datePublishing\", \"creationDate\", \"duration\", \"counterUseful\", \"viewCounter\"])"
      ],
      "metadata": {
        "id": "7XkhZ-QgYNbY"
      },
      "execution_count": 12,
      "outputs": []
    },
    {
      "cell_type": "code",
      "source": [
        "X"
      ],
      "metadata": {
        "colab": {
          "base_uri": "https://localhost:8080/",
          "height": 424
        },
        "id": "SbEH7iqQlehR",
        "outputId": "709e54ce-04ec-4c94-a135-962f5bf43d22"
      },
      "execution_count": 13,
      "outputs": [
        {
          "output_type": "execute_result",
          "data": {
            "text/plain": [
              "      aria aperta  cultura  food  sport  tempo libero  viaggi  duration_min  \\\n",
              "0               0        0     0      0             0       1           0.0   \n",
              "1               0        0     0      0             0       1          60.0   \n",
              "2               0        0     0      0             0       1          60.0   \n",
              "3               0        0     0      0             0       1           0.0   \n",
              "4               0        0     0      0             0       1           0.0   \n",
              "...           ...      ...   ...    ...           ...     ...           ...   \n",
              "4351            0        0     0      0             0       1        4320.0   \n",
              "4352            0        0     0      0             0       1         960.0   \n",
              "4353            0        0     0      0             0       1         150.0   \n",
              "4354            0        0     0      0             0       1        2880.0   \n",
              "4355            0        0     0      0             0       1        5760.0   \n",
              "\n",
              "      days  \n",
              "0        9  \n",
              "1       41  \n",
              "2       41  \n",
              "3       10  \n",
              "4       10  \n",
              "...    ...  \n",
              "4351    57  \n",
              "4352    57  \n",
              "4353    41  \n",
              "4354    59  \n",
              "4355    53  \n",
              "\n",
              "[4356 rows x 8 columns]"
            ],
            "text/html": [
              "\n",
              "  <div id=\"df-d4f982df-f290-4f0f-8f9f-731339af0217\">\n",
              "    <div class=\"colab-df-container\">\n",
              "      <div>\n",
              "<style scoped>\n",
              "    .dataframe tbody tr th:only-of-type {\n",
              "        vertical-align: middle;\n",
              "    }\n",
              "\n",
              "    .dataframe tbody tr th {\n",
              "        vertical-align: top;\n",
              "    }\n",
              "\n",
              "    .dataframe thead th {\n",
              "        text-align: right;\n",
              "    }\n",
              "</style>\n",
              "<table border=\"1\" class=\"dataframe\">\n",
              "  <thead>\n",
              "    <tr style=\"text-align: right;\">\n",
              "      <th></th>\n",
              "      <th>aria aperta</th>\n",
              "      <th>cultura</th>\n",
              "      <th>food</th>\n",
              "      <th>sport</th>\n",
              "      <th>tempo libero</th>\n",
              "      <th>viaggi</th>\n",
              "      <th>duration_min</th>\n",
              "      <th>days</th>\n",
              "    </tr>\n",
              "  </thead>\n",
              "  <tbody>\n",
              "    <tr>\n",
              "      <th>0</th>\n",
              "      <td>0</td>\n",
              "      <td>0</td>\n",
              "      <td>0</td>\n",
              "      <td>0</td>\n",
              "      <td>0</td>\n",
              "      <td>1</td>\n",
              "      <td>0.0</td>\n",
              "      <td>9</td>\n",
              "    </tr>\n",
              "    <tr>\n",
              "      <th>1</th>\n",
              "      <td>0</td>\n",
              "      <td>0</td>\n",
              "      <td>0</td>\n",
              "      <td>0</td>\n",
              "      <td>0</td>\n",
              "      <td>1</td>\n",
              "      <td>60.0</td>\n",
              "      <td>41</td>\n",
              "    </tr>\n",
              "    <tr>\n",
              "      <th>2</th>\n",
              "      <td>0</td>\n",
              "      <td>0</td>\n",
              "      <td>0</td>\n",
              "      <td>0</td>\n",
              "      <td>0</td>\n",
              "      <td>1</td>\n",
              "      <td>60.0</td>\n",
              "      <td>41</td>\n",
              "    </tr>\n",
              "    <tr>\n",
              "      <th>3</th>\n",
              "      <td>0</td>\n",
              "      <td>0</td>\n",
              "      <td>0</td>\n",
              "      <td>0</td>\n",
              "      <td>0</td>\n",
              "      <td>1</td>\n",
              "      <td>0.0</td>\n",
              "      <td>10</td>\n",
              "    </tr>\n",
              "    <tr>\n",
              "      <th>4</th>\n",
              "      <td>0</td>\n",
              "      <td>0</td>\n",
              "      <td>0</td>\n",
              "      <td>0</td>\n",
              "      <td>0</td>\n",
              "      <td>1</td>\n",
              "      <td>0.0</td>\n",
              "      <td>10</td>\n",
              "    </tr>\n",
              "    <tr>\n",
              "      <th>...</th>\n",
              "      <td>...</td>\n",
              "      <td>...</td>\n",
              "      <td>...</td>\n",
              "      <td>...</td>\n",
              "      <td>...</td>\n",
              "      <td>...</td>\n",
              "      <td>...</td>\n",
              "      <td>...</td>\n",
              "    </tr>\n",
              "    <tr>\n",
              "      <th>4351</th>\n",
              "      <td>0</td>\n",
              "      <td>0</td>\n",
              "      <td>0</td>\n",
              "      <td>0</td>\n",
              "      <td>0</td>\n",
              "      <td>1</td>\n",
              "      <td>4320.0</td>\n",
              "      <td>57</td>\n",
              "    </tr>\n",
              "    <tr>\n",
              "      <th>4352</th>\n",
              "      <td>0</td>\n",
              "      <td>0</td>\n",
              "      <td>0</td>\n",
              "      <td>0</td>\n",
              "      <td>0</td>\n",
              "      <td>1</td>\n",
              "      <td>960.0</td>\n",
              "      <td>57</td>\n",
              "    </tr>\n",
              "    <tr>\n",
              "      <th>4353</th>\n",
              "      <td>0</td>\n",
              "      <td>0</td>\n",
              "      <td>0</td>\n",
              "      <td>0</td>\n",
              "      <td>0</td>\n",
              "      <td>1</td>\n",
              "      <td>150.0</td>\n",
              "      <td>41</td>\n",
              "    </tr>\n",
              "    <tr>\n",
              "      <th>4354</th>\n",
              "      <td>0</td>\n",
              "      <td>0</td>\n",
              "      <td>0</td>\n",
              "      <td>0</td>\n",
              "      <td>0</td>\n",
              "      <td>1</td>\n",
              "      <td>2880.0</td>\n",
              "      <td>59</td>\n",
              "    </tr>\n",
              "    <tr>\n",
              "      <th>4355</th>\n",
              "      <td>0</td>\n",
              "      <td>0</td>\n",
              "      <td>0</td>\n",
              "      <td>0</td>\n",
              "      <td>0</td>\n",
              "      <td>1</td>\n",
              "      <td>5760.0</td>\n",
              "      <td>53</td>\n",
              "    </tr>\n",
              "  </tbody>\n",
              "</table>\n",
              "<p>4356 rows × 8 columns</p>\n",
              "</div>\n",
              "      <button class=\"colab-df-convert\" onclick=\"convertToInteractive('df-d4f982df-f290-4f0f-8f9f-731339af0217')\"\n",
              "              title=\"Convert this dataframe to an interactive table.\"\n",
              "              style=\"display:none;\">\n",
              "        \n",
              "  <svg xmlns=\"http://www.w3.org/2000/svg\" height=\"24px\"viewBox=\"0 0 24 24\"\n",
              "       width=\"24px\">\n",
              "    <path d=\"M0 0h24v24H0V0z\" fill=\"none\"/>\n",
              "    <path d=\"M18.56 5.44l.94 2.06.94-2.06 2.06-.94-2.06-.94-.94-2.06-.94 2.06-2.06.94zm-11 1L8.5 8.5l.94-2.06 2.06-.94-2.06-.94L8.5 2.5l-.94 2.06-2.06.94zm10 10l.94 2.06.94-2.06 2.06-.94-2.06-.94-.94-2.06-.94 2.06-2.06.94z\"/><path d=\"M17.41 7.96l-1.37-1.37c-.4-.4-.92-.59-1.43-.59-.52 0-1.04.2-1.43.59L10.3 9.45l-7.72 7.72c-.78.78-.78 2.05 0 2.83L4 21.41c.39.39.9.59 1.41.59.51 0 1.02-.2 1.41-.59l7.78-7.78 2.81-2.81c.8-.78.8-2.07 0-2.86zM5.41 20L4 18.59l7.72-7.72 1.47 1.35L5.41 20z\"/>\n",
              "  </svg>\n",
              "      </button>\n",
              "      \n",
              "  <style>\n",
              "    .colab-df-container {\n",
              "      display:flex;\n",
              "      flex-wrap:wrap;\n",
              "      gap: 12px;\n",
              "    }\n",
              "\n",
              "    .colab-df-convert {\n",
              "      background-color: #E8F0FE;\n",
              "      border: none;\n",
              "      border-radius: 50%;\n",
              "      cursor: pointer;\n",
              "      display: none;\n",
              "      fill: #1967D2;\n",
              "      height: 32px;\n",
              "      padding: 0 0 0 0;\n",
              "      width: 32px;\n",
              "    }\n",
              "\n",
              "    .colab-df-convert:hover {\n",
              "      background-color: #E2EBFA;\n",
              "      box-shadow: 0px 1px 2px rgba(60, 64, 67, 0.3), 0px 1px 3px 1px rgba(60, 64, 67, 0.15);\n",
              "      fill: #174EA6;\n",
              "    }\n",
              "\n",
              "    [theme=dark] .colab-df-convert {\n",
              "      background-color: #3B4455;\n",
              "      fill: #D2E3FC;\n",
              "    }\n",
              "\n",
              "    [theme=dark] .colab-df-convert:hover {\n",
              "      background-color: #434B5C;\n",
              "      box-shadow: 0px 1px 3px 1px rgba(0, 0, 0, 0.15);\n",
              "      filter: drop-shadow(0px 1px 2px rgba(0, 0, 0, 0.3));\n",
              "      fill: #FFFFFF;\n",
              "    }\n",
              "  </style>\n",
              "\n",
              "      <script>\n",
              "        const buttonEl =\n",
              "          document.querySelector('#df-d4f982df-f290-4f0f-8f9f-731339af0217 button.colab-df-convert');\n",
              "        buttonEl.style.display =\n",
              "          google.colab.kernel.accessAllowed ? 'block' : 'none';\n",
              "\n",
              "        async function convertToInteractive(key) {\n",
              "          const element = document.querySelector('#df-d4f982df-f290-4f0f-8f9f-731339af0217');\n",
              "          const dataTable =\n",
              "            await google.colab.kernel.invokeFunction('convertToInteractive',\n",
              "                                                     [key], {});\n",
              "          if (!dataTable) return;\n",
              "\n",
              "          const docLinkHtml = 'Like what you see? Visit the ' +\n",
              "            '<a target=\"_blank\" href=https://colab.research.google.com/notebooks/data_table.ipynb>data table notebook</a>'\n",
              "            + ' to learn more about interactive tables.';\n",
              "          element.innerHTML = '';\n",
              "          dataTable['output_type'] = 'display_data';\n",
              "          await google.colab.output.renderOutput(dataTable, element);\n",
              "          const docLink = document.createElement('div');\n",
              "          docLink.innerHTML = docLinkHtml;\n",
              "          element.appendChild(docLink);\n",
              "        }\n",
              "      </script>\n",
              "    </div>\n",
              "  </div>\n",
              "  "
            ]
          },
          "metadata": {},
          "execution_count": 13
        }
      ]
    },
    {
      "cell_type": "markdown",
      "source": [
        "### Clusters"
      ],
      "metadata": {
        "id": "llMccxgg-IRD"
      }
    },
    {
      "cell_type": "code",
      "source": [
        "#Plot data using SVD\n",
        "def plot_with_SVD(data, categories:list, tfidf_dict:dict):\n",
        "  svd_dict = dict()\n",
        "  for c in categories:\n",
        "    tfidf = tfidf_dict[c]\n",
        "    data_with_tfidf = pd.concat([data[data[c]!=0], tfidf], axis=1)\n",
        "    data_with_tfidf.drop(columns=categories, inplace=True)\n",
        "    svd = TruncatedSVD(n_components=2, n_iter=7, random_state=42)\n",
        "    svd = svd.fit_transform(data_with_tfidf)\n",
        "    svd_dict[c] = svd\n",
        "    plt.scatter(svd[:,0], svd[:,1])\n",
        "    plt.title(\"Category: \" + c)\n",
        "    plt.show()\n",
        "  return svd_dict"
      ],
      "metadata": {
        "id": "F_fNkbNCa1Bc"
      },
      "execution_count": 14,
      "outputs": []
    },
    {
      "cell_type": "code",
      "source": [
        "svd_dict = plot_with_SVD(X, categories, tfidf_dict)"
      ],
      "metadata": {
        "colab": {
          "base_uri": "https://localhost:8080/",
          "height": 1000
        },
        "id": "OlU4D-7T1_rX",
        "outputId": "a536e6ce-9439-4f2d-d539-740f36042013"
      },
      "execution_count": 15,
      "outputs": [
        {
          "output_type": "display_data",
          "data": {
            "text/plain": [
              "<Figure size 432x288 with 1 Axes>"
            ],
            "image/png": "[encoded data removed]"
          },
          "metadata": {
            "needs_background": "light"
          }
        },
        {
          "output_type": "display_data",
          "data": {
            "text/plain": [
              "<Figure size 432x288 with 1 Axes>"
            ],
            "image/png": "[encoded data removed]"
          },
          "metadata": {
            "needs_background": "light"
          }
        },
        {
          "output_type": "display_data",
          "data": {
            "text/plain": [
              "<Figure size 432x288 with 1 Axes>"
            ],
            "image/png": "[encoded data removed]"
          },
          "metadata": {
            "needs_background": "light"
          }
        },
        {
          "output_type": "display_data",
          "data": {
            "text/plain": [
              "<Figure size 432x288 with 1 Axes>"
            ],
            "image/png": "[encoded data removed]"
          },
          "metadata": {
            "needs_background": "light"
          }
        },
        {
          "output_type": "display_data",
          "data": {
            "text/plain": [
              "<Figure size 432x288 with 1 Axes>"
            ],
            "image/png": "[encoded data removed]"
          },
          "metadata": {
            "needs_background": "light"
          }
        },
        {
          "output_type": "display_data",
          "data": {
            "text/plain": [
              "<Figure size 432x288 with 1 Axes>"
            ],
            "image/png": "[encoded data removed]"
          },
          "metadata": {
            "needs_background": "light"
          }
        }
      ]
    },
    {
      "cell_type": "code",
      "source": [
        "#Plot results\n",
        "def plotKMeans(label, df, category):\n",
        "  u_labels = np.unique(label)\n",
        "  for i in u_labels:\n",
        "      plt.scatter(df[label == i , 0] , df[label == i , 1] , label = i)\n",
        "  plt.title('K-means with {} clusters for {}'.format(len(u_labels), category))\n",
        "  plt.legend()\n",
        "  plt.show()"
      ],
      "metadata": {
        "id": "h88rHvWtawUK"
      },
      "execution_count": 16,
      "outputs": []
    },
    {
      "cell_type": "code",
      "source": [
        "def kmeans_tests(data, category, svd_dict, clusters_number=10, steps=1):\n",
        "  inertia = []\n",
        "  times = dict() #{k:time_needed}\n",
        "  K = range(2,clusters_number,steps) \n",
        "  for k in K:\n",
        "      #Fit \n",
        "      start = time.time()\n",
        "      kmeanModel = KMeans(n_clusters=k)\n",
        "      kmeans = kmeanModel.fit(data)\n",
        "      time_needed = time.time() - start\n",
        "      times[k] = time_needed\n",
        "      #Elbow\n",
        "      inertia.append(kmeanModel.inertia_)\n",
        "      #Clusters\n",
        "      label = kmeans.predict(data)\n",
        "      plotKMeans(label, svd_dict[category], category)\n",
        "  return inertia, times, K"
      ],
      "metadata": {
        "id": "7OQD_dduatpz"
      },
      "execution_count": 17,
      "outputs": []
    },
    {
      "cell_type": "code",
      "source": [
        "def elbow_and_statistics(inertia, times, K):\n",
        "  #Elbow\n",
        "  plt.figure(figsize=(10,3))\n",
        "  plt.plot(K, inertia, 'bx-')\n",
        "  plt.xlabel('k')\n",
        "  plt.ylabel('Inertia')\n",
        "  plt.title('The Elbow Method showing the optimal k')\n",
        "  plt.show()\n",
        "  print(\"\\n\")\n",
        "  #Inertia\n",
        "  for k,value in zip(K, inertia):\n",
        "    print(\"Inertia for {} clusters is: {}\".format(k,value))\n",
        "  print(\"\\n\")\n",
        "  #Times needed\n",
        "  for k,v in times.items():\n",
        "    print(\"Time needed to fit kmeans with {} clusters is: {}\".format(k,v))"
      ],
      "metadata": {
        "id": "n7reCtXUbYRT"
      },
      "execution_count": 18,
      "outputs": []
    },
    {
      "cell_type": "code",
      "source": [
        "from yellowbrick.cluster import KElbowVisualizer\n",
        "def elbow_visualizer(data, k):\n",
        "  model = KMeans()\n",
        "  visualizer = KElbowVisualizer(model, k=k)\n",
        "  visualizer.fit(X)        \n",
        "  visualizer.show() "
      ],
      "metadata": {
        "id": "kJwL8LLdsJOj"
      },
      "execution_count": 19,
      "outputs": []
    },
    {
      "cell_type": "code",
      "source": [
        "def kmeans_computation(data, tfidf_dict, categories:list, svd, k, visualizer=False):\n",
        "  assert type(categories)==list, \"Expected list as input not {}\".format(type(categories))\n",
        "  for c in categories:\n",
        "    print(\"Category: {}\".format(c))\n",
        "    tfidf = tfidf_dict[c]\n",
        "    data_category = pd.concat([data[data[c]!=0], tfidf], axis=1)\n",
        "    data_cleaned = data_category.drop(columns=categories)\n",
        "    if visualizer:\n",
        "      #kmeans\n",
        "      inertia, times, K = kmeans_tests(data_cleaned, c, svd, k)\n",
        "      # Elbow and inertia\n",
        "      elbow_and_statistics(inertia, times, K)\n",
        "    else:\n",
        "      elbow_visualizer(data_cleaned, k)  "
      ],
      "metadata": {
        "id": "nYnfwBhL6b2j"
      },
      "execution_count": 46,
      "outputs": []
    },
    {
      "cell_type": "code",
      "source": [
        "#kmeans_computation([\"food\"])\n",
        "kmeans_computation(X, tfidf_dict, categories, svd_dict, 10)"
      ],
      "metadata": {
        "colab": {
          "base_uri": "https://localhost:8080/",
          "height": 1000
        },
        "id": "gHwhLPkv7L4H",
        "outputId": "a921bb85-21d8-4034-920f-4134c7f77f57"
      },
      "execution_count": 47,
      "outputs": [
        {
          "output_type": "stream",
          "name": "stdout",
          "text": [
            "Category: aria aperta\n"
          ]
        },
        {
          "output_type": "display_data",
          "data": {
            "text/plain": [
              "<Figure size 576x396 with 2 Axes>"
            ],
            "image/png": "[encoded data removed]"
          },
          "metadata": {}
        },
        {
          "output_type": "stream",
          "name": "stdout",
          "text": [
            "Category: cultura\n"
          ]
        },
        {
          "output_type": "display_data",
          "data": {
            "text/plain": [
              "<Figure size 576x396 with 2 Axes>"
            ],
            "image/png": "[encoded data removed]"
          },
          "metadata": {}
        },
        {
          "output_type": "stream",
          "name": "stdout",
          "text": [
            "Category: food\n"
          ]
        },
        {
          "output_type": "display_data",
          "data": {
            "text/plain": [
              "<Figure size 576x396 with 2 Axes>"
            ],
            "image/png": "[encoded data removed]"
          },
          "metadata": {}
        },
        {
          "output_type": "stream",
          "name": "stdout",
          "text": [
            "Category: sport\n"
          ]
        },
        {
          "output_type": "display_data",
          "data": {
            "text/plain": [
              "<Figure size 576x396 with 2 Axes>"
            ],
            "image/png": "[encoded data removed]"
          },
          "metadata": {}
        },
        {
          "output_type": "stream",
          "name": "stdout",
          "text": [
            "Category: tempo libero\n"
          ]
        },
        {
          "output_type": "display_data",
          "data": {
            "text/plain": [
              "<Figure size 576x396 with 2 Axes>"
            ],
            "image/png": "[encoded data removed]"
          },
          "metadata": {}
        },
        {
          "output_type": "stream",
          "name": "stdout",
          "text": [
            "Category: viaggi\n"
          ]
        },
        {
          "output_type": "display_data",
          "data": {
            "text/plain": [
              "<Figure size 576x396 with 2 Axes>"
            ],
            "image/png": "[encoded data removed]"
          },
          "metadata": {}
        }
      ]
    },
    {
      "cell_type": "markdown",
      "source": [
        "### Cluster Consenus"
      ],
      "metadata": {
        "id": "Fu0X7UpX-k04"
      }
    },
    {
      "cell_type": "code",
      "source": [
        "optimal_number_clusters = {\"aria aperta\":4, \"cultura\":4, \"food\":4, \"sport\":4, \"tempo libero\":4, \"viaggi\":4}\n",
        "#optimal_number_clusters = {\"aria aperta\":3, \"cultura\":3, \"food\":3, \"sport\":3, \"tempo libero\":3, \"viaggi\":3}"
      ],
      "metadata": {
        "id": "TJ4_hIM-yrLY"
      },
      "execution_count": 55,
      "outputs": []
    },
    {
      "cell_type": "code",
      "source": [
        "kmeans_dict = dict()\n",
        "for k,v in optimal_number_clusters.items():\n",
        "  kmeanModel = KMeans(n_clusters=v)\n",
        "  print(\"Category '{}' has {} clusters\".format(k,v))\n",
        "  #data_category = X[X[k] == 1]\n",
        "  tfidf = tfidf_dict[k]\n",
        "  data_category = pd.concat([X[X[k]!=0], tfidf], axis=1)\n",
        "  data_cleaned = data_category.drop(columns=categories)\n",
        "  kmeans = kmeanModel.fit(data_cleaned.values)\n",
        "  kmeans_dict[k] = kmeans\n",
        "  #print number of posts in each cluster\n",
        "  labels = kmeans.labels_\n",
        "  count_elem_per_cluster = pd.DataFrame(labels).value_counts()\n",
        "  print(count_elem_per_cluster)\n",
        "  print()"
      ],
      "metadata": {
        "id": "P5R2cG3E9kBL",
        "colab": {
          "base_uri": "https://localhost:8080/"
        },
        "outputId": "e4702ac6-525e-4f2c-8657-97f41720cfaa"
      },
      "execution_count": 56,
      "outputs": [
        {
          "output_type": "stream",
          "name": "stdout",
          "text": [
            "Category 'aria aperta' has 4 clusters\n",
            "0    584\n",
            "3     72\n",
            "2      8\n",
            "1      7\n",
            "dtype: int64\n",
            "\n",
            "Category 'cultura' has 4 clusters\n",
            "0    687\n",
            "3     61\n",
            "1      6\n",
            "2      3\n",
            "dtype: int64\n",
            "\n",
            "Category 'food' has 4 clusters\n",
            "1    792\n",
            "0    277\n",
            "3     21\n",
            "2      2\n",
            "dtype: int64\n",
            "\n",
            "Category 'sport' has 4 clusters\n",
            "0    293\n",
            "1     13\n",
            "3      4\n",
            "2      1\n",
            "dtype: int64\n",
            "\n",
            "Category 'tempo libero' has 4 clusters\n",
            "0    489\n",
            "3     28\n",
            "1     14\n",
            "2      1\n",
            "dtype: int64\n",
            "\n",
            "Category 'viaggi' has 4 clusters\n",
            "0    693\n",
            "1     59\n",
            "3     25\n",
            "2      1\n",
            "dtype: int64\n",
            "\n"
          ]
        }
      ]
    },
    {
      "cell_type": "code",
      "source": [
        "from itertools import groupby\n",
        "\n",
        "def get_similarity(t):\n",
        "  return t[0]\n",
        "\n",
        "def ranking_target(target_categories):\n",
        "  scores_clusters = [(cat, len(s)) for cat, cluster in target_categories.items() for s in cluster.values()]\n",
        "  scores_categories = []\n",
        "  for i, g in groupby(sorted(scores_clusters), key=lambda x: x[0]):\n",
        "      scores_categories.append([i, sum(v[1] for v in g)])\n",
        "  scores_categories.sort(key=lambda x: x[1], reverse=True)\n",
        "  return scores_categories\n",
        "\n",
        "def similarity(target_user, partitions_users, top=5):\n",
        "  ranking = ranking_target(partitions_users[target_user])\n",
        "  for k,v in partitions_users.items():\n",
        "    if k == target_user:\n",
        "      continue \n",
        "    for c in categories:\n",
        "      user_category_score = [len(s) for cluster in v.values() for s in cluster]\n",
        "      \n",
        "\n",
        "# def similarity(target_user, partitions_users, top=5):\n",
        "#   # Creating empty heap\n",
        "#   heap = []\n",
        "#   heapq.heapify(heap)\n",
        "#   # number of target_user's posts in each cluster and total number of target's post\n",
        "#   if target_user not in partitions_users:\n",
        "#     print(\"Id not valid!\")\n",
        "#     return\n",
        "#   target_categories = partitions_users[target_user]\n",
        "#   target_scores_categories = [len(s) for cluster in target_categories.values() for s in cluster]\n",
        "#   print(target_scores_categories)\n",
        "#   number_posts_target = sum(target_scores_categories)\n",
        "#   for k,v in partitions_users.items():\n",
        "#     if k == target_user:\n",
        "#       continue\n",
        "#     user_scores = [len(x) for x in v.values()]\n",
        "#     distance = sum([abs(x-y) for x,y in zip(target_scores_categories, user_scores)])\n",
        "#     number_posts_user = sum(user_scores)\n",
        "#     total_posts = number_posts_target + number_posts_user\n",
        "#     similarity = 1 - (distance/total_posts)\n",
        "#     heapq.heappush(heap, (similarity, k))\n",
        "#   return heapq.nlargest(top, heap, key=get_similarity) \n"
      ],
      "metadata": {
        "id": "ZQOVucJAIcve"
      },
      "execution_count": 119,
      "outputs": []
    },
    {
      "cell_type": "code",
      "source": [
        "id = 129\n",
        "best_users = similarity(id, partitions_by_user)\n",
        "best_users"
      ],
      "metadata": {
        "colab": {
          "base_uri": "https://localhost:8080/"
        },
        "id": "SxVlsBcVWQaJ",
        "outputId": "9d8d9293-3c6b-4d78-e245-e8baba5e9f72"
      },
      "execution_count": 118,
      "outputs": [
        {
          "output_type": "stream",
          "name": "stdout",
          "text": [
            "{'cultura': {3: ['6140834d533f2f326b893934', '618e78a6a5feeb0440a7f21f'], 0: ['6172750ae22ccc1544bdf871', '620e5934af16656930950491', '61b62d2005808c2d13e1e741', '62179358ae6735171d5c0010', '61fff76375551f4dc5a6ca81', '61cc4d53ce6c9f22d7eb599a', '61685bf027d0877f5c2126b4', '623057d046ef2b6d71a8fd5c']}, 'food': {3: ['6169aaa1e5b812488d8c15f5', '614883f97e37495794603dcf'], 0: ['61c20d8d8618d1271acb8957', '61cedd33520d2828ac3d2bc6', '61f7f3f0de25614ef958a3d2', '6207e528b1d0940f122582db', '619a25f427fd10380bb5d652', '61a0f1230783552ab94e19b2', '61e19a6602eda64de31b066a', '6184f4e6f08309502229eed3', '618535f2de2f885f7e6a04a0', '61f26e16d91e9928f6e086ef', '61b9b844f847ed27e4497a29', '612366abed242d4ae012fe69', '61aa06dc88b2e606829dc3a0'], 1: ['61a1027b0783552ab94e1b73', '620bd59b9af0354e9c14b064', '6214fc1a6a759d6ff9284444', '622228bfb0d2b615ae781fc1', '61ed90ec8e21a6510547593c', '6230b0184a745d44ac4e653f']}, 'sport': {0: ['60f6e120968bc30656b1d7fd', '615c7d4ceb3bf47494b8e73a', '61f5677b306802033034cbbf', '61df08e211b3bf4d3185a7d3', '615ade64eb3bf47494b8e6a5', '61b312a4f79f235887e580d2']}, 'tempo libero': {0: ['61408190533f2f326b89392b', '617c1aef50900b087444d824', '617bdda050900b087444d6be', '61aa46e0f7652348f5114a9e', '619ad64627fd10380bb5d9c2', '61407ce0533f2f326b89391c', '60f6ef4c968bc30656b1d812', '61408032533f2f326b893925', '612369f4ed242d4ae012ff38', '6123843eed242d4ae0130034', '61718ff2e22ccc1544bdf7de'], 3: ['618b885178b9dc29f721179d'], 1: ['61bc6970d5e0c810efbce385']}, 'viaggi': {0: ['61c4a8f3ad15dc51e7fa0fbc', '61e6a20575da361a4e80b44c']}}\n",
            "[('cultura', 2), ('cultura', 8), ('food', 2), ('food', 13), ('food', 6), ('sport', 6), ('tempo libero', 11), ('tempo libero', 1), ('tempo libero', 1), ('viaggi', 2)]\n",
            "[['cultura', 10], ['food', 21], ['sport', 6], ['tempo libero', 13], ['viaggi', 2]]\n",
            "[['food', 21], ['tempo libero', 13], ['cultura', 10], ['sport', 6], ['viaggi', 2]]\n"
          ]
        }
      ]
    },
    {
      "cell_type": "markdown",
      "source": [
        "Considering posts users wrote"
      ],
      "metadata": {
        "id": "O75rqXwvmmS0"
      }
    },
    {
      "cell_type": "code",
      "source": [
        "def posts_in_partition(data, users, categories, kmeans_dict):\n",
        "  partitions = dict()\n",
        "  for c in categories:\n",
        "    tfidf = tfidf_dict[c]\n",
        "    data_category = pd.concat([data[data[c]!=0], tfidf], axis=1)\n",
        "    data_post = data_category.drop(columns=categories)\n",
        "    users = data_post[\"userId\"]\n",
        "    posts_ids = data_post[\"id\"]\n",
        "    data_post = data_post.drop(columns=[\"userId\", \"id\"])\n",
        "    for u,p,d in zip(users, posts_ids, data_post.iterrows()):\n",
        "      user = u\n",
        "      post = p\n",
        "      features = d[1]\n",
        "      cluster = kmeans_dict[c].predict([features.values])[0]\n",
        "      if user in partitions:\n",
        "          #check if category c already exists for userId\n",
        "          if c in partitions[user]:\n",
        "            #check if cluster already exists for the category c of userId\n",
        "            if cluster in partitions[user][c]:\n",
        "              partitions[user][c][cluster].append(post)\n",
        "            else:\n",
        "              partitions[user][c][cluster] = [post]\n",
        "          else:\n",
        "            partitions[user][c] = dict()\n",
        "            partitions[user][c][cluster] = [post]\n",
        "      else:\n",
        "        partitions[user] = dict()\n",
        "        partitions[user][c] = dict()\n",
        "        partitions[user][c][cluster] = [post]\n",
        "  return partitions"
      ],
      "metadata": {
        "id": "F-cU1FVfDLur"
      },
      "execution_count": 89,
      "outputs": []
    },
    {
      "cell_type": "code",
      "source": [
        "partitions_by_user = posts_in_partition(data_with_ids, users, categories, kmeans_dict)"
      ],
      "metadata": {
        "id": "1uqv7q6IFZQh"
      },
      "execution_count": 90,
      "outputs": []
    },
    {
      "cell_type": "code",
      "source": [
        "# # compute distribution of the posts in the clusters for each user\n",
        "# # partitions = {user1: {\"food\": {c0:[post1, post4], c1:[post6], c2:[post3]}, \"viaggi\":{co:[], c1:[post100], c2:[]}, etc}, user2...}\n",
        "# def posts_in_partition(data, users, categories, kmeans_dict):\n",
        "#   partitions = dict()\n",
        "#   for u in users:\n",
        "#     #userId = row[\"userId\"]\n",
        "#     posts_user = X[data[\"userId\"] == u]\n",
        "#     #a post can have multiple categories\n",
        "#     for _, p in posts_user.iterrows():\n",
        "#       for c in categories:\n",
        "#         if p[c] != 1:\n",
        "#           continue\n",
        "#         #data_category = posts_user[posts_user[c] == 1] \n",
        "#         tfidf = tfidf_dict[c]\n",
        "#         data_category = pd.concat([posts_user[posts_user[c]!=0], tfidf], axis=1)\n",
        "#         data_post = data_category.drop(columns=categories)\n",
        "#         cluster = kmeans_dict[c].predict(data_post.values)\n",
        "#         #cluster = kmeans.predict([X.iloc[index]])\n",
        "#         if u in partitions:\n",
        "#           #check if category c already exists for userId\n",
        "#           if c in partitions[u]:\n",
        "#             #check if cluster already exists for the category c of userId\n",
        "#             if cluster in partitions[u][c]:\n",
        "#               partitions[u][c][cluster].append(row[\"id\"])\n",
        "#             else:\n",
        "#               partitions[u][c][cluster] = [row[\"id\"]]\n",
        "#           else:\n",
        "#             partitions[u][c] = dict()\n",
        "#             partitions[u][c][cluster] = [row[\"id\"]]\n",
        "#         else:\n",
        "#           partitions[u] = dict()\n",
        "#           partitions[u][c] = dict()\n",
        "#           partitions[u][c][cluster] = [row[\"id\"]]\n",
        "#     # if userId in partitions:\n",
        "#     #   if cluster[0] in partitions[userId]:\n",
        "#     #     partitions[userId][cluster[0]].append(row[\"id\"])\n",
        "#     #   else:\n",
        "#     #     partitions[userId][cluster[0]] = [row[\"id\"]]\n",
        "#     # else:\n",
        "#     #   partitions[userId] = {}\n",
        "#     #   partitions[userId][cluster[0]] = [row[\"id\"]]\n",
        "#   return partitions"
      ],
      "metadata": {
        "id": "eMx3h_Xg-y6F"
      },
      "execution_count": 67,
      "outputs": []
    },
    {
      "cell_type": "code",
      "source": [
        "def print_info_partitions_for_user(user, partition):\n",
        "  print(\"Info about the clusters for the posts of user {}\".format(user))\n",
        "  partitions_categories = partition[user]\n",
        "  for category,partitions in partitions_categories.items():\n",
        "    print(\"Clusters for category {}: {}\".format(category, len(partitions)))\n",
        "    for cluster,array in partitions.items():\n",
        "      print(\"#items in cluster {} for category {}: {}\".format(cluster, category, len(array)))\n",
        "    print()"
      ],
      "metadata": {
        "id": "7CI8aNRaaMoL"
      },
      "execution_count": 95,
      "outputs": []
    },
    {
      "cell_type": "code",
      "source": [
        "# partitions_by_user = posts_in_partition(data_with_ids, users, categories, kmeans_dict)"
      ],
      "metadata": {
        "id": "XjXdHS_2EfGx"
      },
      "execution_count": null,
      "outputs": []
    },
    {
      "cell_type": "code",
      "source": [
        "print_info_partitions_for_user(77, partitions_by_user)"
      ],
      "metadata": {
        "id": "79qjHXW7bMNY",
        "colab": {
          "base_uri": "https://localhost:8080/"
        },
        "outputId": "c94a3e83-8dbc-40eb-d6ae-18749f49c239"
      },
      "execution_count": 102,
      "outputs": [
        {
          "output_type": "stream",
          "name": "stdout",
          "text": [
            "Info about the clusters for the posts of user 77\n",
            "Clusters for category cultura: 1\n",
            "#items in cluster 3 for category cultura: 1\n",
            "\n",
            "Clusters for category sport: 1\n",
            "#items in cluster 0 for category sport: 1\n",
            "\n",
            "Clusters for category tempo libero: 1\n",
            "#items in cluster 0 for category tempo libero: 1\n",
            "\n"
          ]
        }
      ]
    },
    {
      "cell_type": "code",
      "source": [
        "id = 77\n",
        "best_users = similarity(id, partitions_by_user)\n",
        "best_users"
      ],
      "metadata": {
        "id": "NSbbaL63Qlei"
      },
      "execution_count": null,
      "outputs": []
    },
    {
      "cell_type": "markdown",
      "source": [
        "Considering the posts the users liked"
      ],
      "metadata": {
        "id": "blH1pIZemriV"
      }
    },
    {
      "cell_type": "code",
      "source": [
        "# compute distribution of the likes in the clusters for each user\n",
        "# partitions = {user1: {c0:[like1, like4], c1:[like6], c2:[like3]}, user2:{c0:[], c1:[]}, etc}\n",
        "def likes_in_partition():\n",
        "  partitions = dict()\n",
        "  for _, row in df_likes_ids.iterrows():\n",
        "    userId = row[\"userId\"]\n",
        "    post = row[\"id\"]\n",
        "    index = pd.Index(data[data[\"id\"] == post])\n",
        "    cluster = kmeans.predict(X[data[\"id\"] == post].values)\n",
        "    if userId in partitions:\n",
        "      if cluster[0] in partitions[userId]:\n",
        "        partitions[userId][cluster[0]].append(row[\"id\"])\n",
        "      else:\n",
        "        partitions[userId][cluster[0]] = [row[\"id\"]]\n",
        "    else:\n",
        "      partitions[userId] = {}\n",
        "      partitions[userId][cluster[0]] = [row[\"id\"]]\n",
        "  return partitions"
      ],
      "metadata": {
        "id": "dijv6wGkmx1h"
      },
      "execution_count": null,
      "outputs": []
    },
    {
      "cell_type": "code",
      "source": [
        "def print_info_partitions_for_user_likes(user, partition):\n",
        "  print(\"Info about the clusters for the likes of user {}\".format(user))\n",
        "  clusters = partition[user]\n",
        "  print(\"Number of different clusters: {}\".format(len(clusters)))\n",
        "  for k,v in clusters.items():\n",
        "    print(\"Cluster {} contains {} likes\".format(k, len(v)))\n",
        "    #print(\"Posts' ids: {}\".format(v))"
      ],
      "metadata": {
        "id": "XwY3Le8TpHFo"
      },
      "execution_count": null,
      "outputs": []
    },
    {
      "cell_type": "code",
      "source": [
        "partitions_by_user_likes = likes_in_partition()"
      ],
      "metadata": {
        "id": "Xk0vVxLqpNbV"
      },
      "execution_count": null,
      "outputs": []
    },
    {
      "cell_type": "code",
      "source": [
        "print_info_partitions_for_user_likes(129, partitions_by_user_likes)"
      ],
      "metadata": {
        "id": "pThEY-6NpNX5"
      },
      "execution_count": null,
      "outputs": []
    },
    {
      "cell_type": "code",
      "source": [
        "id = 129\n",
        "best_users = similarity(id, partitions_by_user_likes)\n",
        "best_users"
      ],
      "metadata": {
        "id": "AxOEUJaO1Jhf"
      },
      "execution_count": null,
      "outputs": []
    },
    {
      "cell_type": "markdown",
      "source": [
        "Print the recommendations"
      ],
      "metadata": {
        "id": "S91xdUb1mu5S"
      }
    },
    {
      "cell_type": "code",
      "source": [
        "def print_results(data, users):\n",
        "  for u in users:\n",
        "    posts = data[data[\"id\"]==u[1]]\n",
        "    print(\"User: {}\".format(u))\n",
        "    for p in posts.iterrows():\n",
        "      print(\"Post:\")\n",
        "      print(p.description)\n",
        "    print(\"-\"*100)"
      ],
      "metadata": {
        "id": "efzSRvHSQzUY"
      },
      "execution_count": null,
      "outputs": []
    },
    {
      "cell_type": "code",
      "source": [
        "print_results(df_schede, best_users)"
      ],
      "metadata": {
        "id": "QTpEMaVreNBG"
      },
      "execution_count": null,
      "outputs": []
    }
  ],
  "metadata": {
    "colab": {
      "collapsed_sections": [
        "5VtIQ2yC3BOK",
        "0nHMfRid3OXs",
        "L8_Fe3eU47tz",
        "Eo5jkD2L3YrW",
        "llMccxgg-IRD"
      ],
      "name": "RecSys.ipynb",
      "provenance": []
    },
    "interpreter": {
      "hash": "916dbcbb3f70747c44a77c7bcd40155683ae19c65e1c03b4aa3499c5328201f1"
    },
    "kernelspec": {
      "display_name": "Python 3.8.10 64-bit",
      "language": "python",
      "name": "python3"
    },
    "language_info": {
      "codemirror_mode": {
        "name": "ipython",
        "version": 3
      },
      "file_extension": ".py",
      "mimetype": "text/x-python",
      "name": "python",
      "nbconvert_exporter": "python",
      "pygments_lexer": "ipython3",
      "version": "3.8.10"
    }
  },
  "nbformat": 4,
  "nbformat_minor": 0
}