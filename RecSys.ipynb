{
  "cells": [
    {
      "cell_type": "code",
      "execution_count": 1,
      "metadata": {
        "colab": {
          "base_uri": "https://localhost:8080/"
        },
        "id": "LTi4PI6vpx3w",
        "outputId": "dab4920e-830d-41db-9b54-6cedd9486e14"
      },
      "outputs": [
        {
          "output_type": "stream",
          "name": "stdout",
          "text": [
            "Mounted at /content/drive\n"
          ]
        }
      ],
      "source": [
        "from google.colab import drive\n",
        "drive.mount('/content/drive')"
      ]
    },
    {
      "cell_type": "markdown",
      "source": [
        "# Imports"
      ],
      "metadata": {
        "id": "5VtIQ2yC3BOK"
      }
    },
    {
      "cell_type": "code",
      "execution_count": 21,
      "metadata": {
        "id": "cfQHWt0ipO_f"
      },
      "outputs": [],
      "source": [
        "import json\n",
        "import pandas as pd\n",
        "import numpy as np\n",
        "import time"
      ]
    },
    {
      "cell_type": "code",
      "execution_count": 22,
      "metadata": {
        "id": "RqYfd9FqpO_o"
      },
      "outputs": [],
      "source": [
        "likes_path = \"/content/drive/MyDrive/Tesi/easytour-likes-2022-03MAR-21.json\"\n",
        "schede_path = \"/content/drive/MyDrive/Tesi/easytour-schede-2022-03MAR-21.json\"\n",
        "data_path = \"/content/drive/MyDrive/Tesi/data.csv\""
      ]
    },
    {
      "cell_type": "code",
      "execution_count": 23,
      "metadata": {
        "id": "fywaOoqZpO_u"
      },
      "outputs": [],
      "source": [
        "df_schede = pd.read_json(schede_path)\n",
        "df_likes = pd.read_json(likes_path)\n",
        "data = pd.read_csv(data_path)  "
      ]
    },
    {
      "cell_type": "code",
      "execution_count": 24,
      "metadata": {
        "id": "OG5NDaEcpO_3"
      },
      "outputs": [],
      "source": [
        "df_schede_fields = df_schede[[\"id\",\"userId\", \"title\", \"description\", \"duration\", \"datePublishing\", \"creationDate\", \"counterUseful\", \"categories\", \"viewCounter\"]]\n",
        "df_likes_ids = df_likes[[\"id\", \"userId\"]]"
      ]
    },
    {
      "cell_type": "code",
      "source": [
        "data"
      ],
      "metadata": {
        "colab": {
          "base_uri": "https://localhost:8080/",
          "height": 0
        },
        "id": "Br25_xytAnkK",
        "outputId": "fc1a43d8-9a28-409c-f613-5c32a377fca6"
      },
      "execution_count": 25,
      "outputs": [
        {
          "output_type": "execute_result",
          "data": {
            "text/plain": [
              "                            id  userId                     title  \\\n",
              "0     62355f98272ae5672fbc3ac7     632              ['spiaggia']   \n",
              "1     620abb33ff8ae67f37cafe3c     442                        []   \n",
              "2     620aa536ff8ae67f37cafb06     442                  ['tigr']   \n",
              "3     62349ff2272ae5672fbc3135     632                   ['big']   \n",
              "4     6234aa65272ae5672fbc34c2     632         ['wat', 'tempio']   \n",
              "...                        ...     ...                       ...   \n",
              "4351  61f57f62306802033034ceed     536  ['avventura', 'cascata']   \n",
              "4352  61f668fa306802033034d239     536             ['avventura']   \n",
              "4353  620bbf26b1675d6cc11232f8     431        ['loma', 'polmon']   \n",
              "4354  61f3c6add91e9928f6e0922a     431                  ['lima']   \n",
              "4355  61fae86453a6a72116188980     158                        []   \n",
              "\n",
              "                                            description     duration  \\\n",
              "0     ['paradiso', 'amant', 'sole', 'mare', 'sole', ...          0.0   \n",
              "1     ['spiaggia', 'isola', 'spiaggia', 'mare', 'ter...    3600000.0   \n",
              "2     ['marcio', 'maltrattamento', 'animal', 'sconsi...    3600000.0   \n",
              "3     ['meta', 'turista', 'assalto', 'spiaggia', 'ac...          0.0   \n",
              "4     ['spiaggia', 'pena', 'tempio', 'big', 'tempio'...          0.0   \n",
              "...                                                 ...          ...   \n",
              "4351  ['esperienza', 'step', 'contatto', 'realtà', '...  259200000.0   \n",
              "4352  ['spalla', 'esperienza', 'lascito', 'vista', '...   57600000.0   \n",
              "4353  ['mese', 'sole', 'capital', 'nuvola', 'nebbia'...    9000000.0   \n",
              "4354  ['angolo', 'turista', 'calor', 'gent', 'bellez...  172800000.0   \n",
              "4355  ['viaggio', 'dubbio', 'isola', 'galapago', '50...  345600000.0   \n",
              "\n",
              "                datePublishing                   creationDate  counterUseful  \\\n",
              "0     2022-03-19T04:44:09.503Z  2022-03-19T04:44:08.000+00:00              0   \n",
              "1     2022-02-14T20:27:32.224Z  2022-02-14T20:27:31.000+00:00              0   \n",
              "2     2022-02-14T20:05:09.586Z  2022-02-14T18:53:42.000+00:00              0   \n",
              "3     2022-03-19T04:48:49.248Z  2022-03-18T15:06:26.000+00:00              0   \n",
              "4     2022-03-19T04:04:27.356Z  2022-03-18T15:51:01.000+00:00              0   \n",
              "...                        ...                            ...            ...   \n",
              "4351  2022-01-29T17:54:42.761Z  2022-01-29T17:54:42.000+00:00              0   \n",
              "4352  2022-01-30T10:31:22.977Z  2022-01-30T10:31:22.000+00:00              0   \n",
              "4353  2022-02-15T14:56:39.554Z  2022-02-15T14:56:38.000+00:00              1   \n",
              "4354  2022-02-01T16:57:01.557Z  2022-01-28T10:34:21.000+00:00              1   \n",
              "4355  2022-02-07T19:19:09.439Z  2022-02-02T20:24:04.000+00:00              3   \n",
              "\n",
              "      viewCounter  aria aperta  cultura  food  sport  tempo libero  viaggi  \\\n",
              "0             2.0            0        0     0      0             0       1   \n",
              "1           413.0            0        0     0      0             0       1   \n",
              "2           414.0            0        0     0      0             0       1   \n",
              "3             4.0            0        0     0      0             0       1   \n",
              "4             4.0            0        0     0      0             0       1   \n",
              "...           ...          ...      ...   ...    ...           ...     ...   \n",
              "4351         42.0            0        0     0      0             0       1   \n",
              "4352         35.0            0        0     0      0             0       1   \n",
              "4353         37.0            0        0     0      0             0       1   \n",
              "4354         51.0            0        0     0      0             0       1   \n",
              "4355         75.0            0        0     0      0             0       1   \n",
              "\n",
              "      duration_min  days  \n",
              "0              0.0     9  \n",
              "1             60.0    41  \n",
              "2             60.0    41  \n",
              "3              0.0    10  \n",
              "4              0.0    10  \n",
              "...            ...   ...  \n",
              "4351        4320.0    57  \n",
              "4352         960.0    57  \n",
              "4353         150.0    41  \n",
              "4354        2880.0    59  \n",
              "4355        5760.0    53  \n",
              "\n",
              "[4356 rows x 17 columns]"
            ],
            "text/html": [
              "\n",
              "  <div id=\"df-f18ede9c-001c-4905-a859-d13b42cbfe8c\">\n",
              "    <div class=\"colab-df-container\">\n",
              "      <div>\n",
              "<style scoped>\n",
              "    .dataframe tbody tr th:only-of-type {\n",
              "        vertical-align: middle;\n",
              "    }\n",
              "\n",
              "    .dataframe tbody tr th {\n",
              "        vertical-align: top;\n",
              "    }\n",
              "\n",
              "    .dataframe thead th {\n",
              "        text-align: right;\n",
              "    }\n",
              "</style>\n",
              "<table border=\"1\" class=\"dataframe\">\n",
              "  <thead>\n",
              "    <tr style=\"text-align: right;\">\n",
              "      <th></th>\n",
              "      <th>id</th>\n",
              "      <th>userId</th>\n",
              "      <th>title</th>\n",
              "      <th>description</th>\n",
              "      <th>duration</th>\n",
              "      <th>datePublishing</th>\n",
              "      <th>creationDate</th>\n",
              "      <th>counterUseful</th>\n",
              "      <th>viewCounter</th>\n",
              "      <th>aria aperta</th>\n",
              "      <th>cultura</th>\n",
              "      <th>food</th>\n",
              "      <th>sport</th>\n",
              "      <th>tempo libero</th>\n",
              "      <th>viaggi</th>\n",
              "      <th>duration_min</th>\n",
              "      <th>days</th>\n",
              "    </tr>\n",
              "  </thead>\n",
              "  <tbody>\n",
              "    <tr>\n",
              "      <th>0</th>\n",
              "      <td>62355f98272ae5672fbc3ac7</td>\n",
              "      <td>632</td>\n",
              "      <td>['spiaggia']</td>\n",
              "      <td>['paradiso', 'amant', 'sole', 'mare', 'sole', ...</td>\n",
              "      <td>0.0</td>\n",
              "      <td>2022-03-19T04:44:09.503Z</td>\n",
              "      <td>2022-03-19T04:44:08.000+00:00</td>\n",
              "      <td>0</td>\n",
              "      <td>2.0</td>\n",
              "      <td>0</td>\n",
              "      <td>0</td>\n",
              "      <td>0</td>\n",
              "      <td>0</td>\n",
              "      <td>0</td>\n",
              "      <td>1</td>\n",
              "      <td>0.0</td>\n",
              "      <td>9</td>\n",
              "    </tr>\n",
              "    <tr>\n",
              "      <th>1</th>\n",
              "      <td>620abb33ff8ae67f37cafe3c</td>\n",
              "      <td>442</td>\n",
              "      <td>[]</td>\n",
              "      <td>['spiaggia', 'isola', 'spiaggia', 'mare', 'ter...</td>\n",
              "      <td>3600000.0</td>\n",
              "      <td>2022-02-14T20:27:32.224Z</td>\n",
              "      <td>2022-02-14T20:27:31.000+00:00</td>\n",
              "      <td>0</td>\n",
              "      <td>413.0</td>\n",
              "      <td>0</td>\n",
              "      <td>0</td>\n",
              "      <td>0</td>\n",
              "      <td>0</td>\n",
              "      <td>0</td>\n",
              "      <td>1</td>\n",
              "      <td>60.0</td>\n",
              "      <td>41</td>\n",
              "    </tr>\n",
              "    <tr>\n",
              "      <th>2</th>\n",
              "      <td>620aa536ff8ae67f37cafb06</td>\n",
              "      <td>442</td>\n",
              "      <td>['tigr']</td>\n",
              "      <td>['marcio', 'maltrattamento', 'animal', 'sconsi...</td>\n",
              "      <td>3600000.0</td>\n",
              "      <td>2022-02-14T20:05:09.586Z</td>\n",
              "      <td>2022-02-14T18:53:42.000+00:00</td>\n",
              "      <td>0</td>\n",
              "      <td>414.0</td>\n",
              "      <td>0</td>\n",
              "      <td>0</td>\n",
              "      <td>0</td>\n",
              "      <td>0</td>\n",
              "      <td>0</td>\n",
              "      <td>1</td>\n",
              "      <td>60.0</td>\n",
              "      <td>41</td>\n",
              "    </tr>\n",
              "    <tr>\n",
              "      <th>3</th>\n",
              "      <td>62349ff2272ae5672fbc3135</td>\n",
              "      <td>632</td>\n",
              "      <td>['big']</td>\n",
              "      <td>['meta', 'turista', 'assalto', 'spiaggia', 'ac...</td>\n",
              "      <td>0.0</td>\n",
              "      <td>2022-03-19T04:48:49.248Z</td>\n",
              "      <td>2022-03-18T15:06:26.000+00:00</td>\n",
              "      <td>0</td>\n",
              "      <td>4.0</td>\n",
              "      <td>0</td>\n",
              "      <td>0</td>\n",
              "      <td>0</td>\n",
              "      <td>0</td>\n",
              "      <td>0</td>\n",
              "      <td>1</td>\n",
              "      <td>0.0</td>\n",
              "      <td>10</td>\n",
              "    </tr>\n",
              "    <tr>\n",
              "      <th>4</th>\n",
              "      <td>6234aa65272ae5672fbc34c2</td>\n",
              "      <td>632</td>\n",
              "      <td>['wat', 'tempio']</td>\n",
              "      <td>['spiaggia', 'pena', 'tempio', 'big', 'tempio'...</td>\n",
              "      <td>0.0</td>\n",
              "      <td>2022-03-19T04:04:27.356Z</td>\n",
              "      <td>2022-03-18T15:51:01.000+00:00</td>\n",
              "      <td>0</td>\n",
              "      <td>4.0</td>\n",
              "      <td>0</td>\n",
              "      <td>0</td>\n",
              "      <td>0</td>\n",
              "      <td>0</td>\n",
              "      <td>0</td>\n",
              "      <td>1</td>\n",
              "      <td>0.0</td>\n",
              "      <td>10</td>\n",
              "    </tr>\n",
              "    <tr>\n",
              "      <th>...</th>\n",
              "      <td>...</td>\n",
              "      <td>...</td>\n",
              "      <td>...</td>\n",
              "      <td>...</td>\n",
              "      <td>...</td>\n",
              "      <td>...</td>\n",
              "      <td>...</td>\n",
              "      <td>...</td>\n",
              "      <td>...</td>\n",
              "      <td>...</td>\n",
              "      <td>...</td>\n",
              "      <td>...</td>\n",
              "      <td>...</td>\n",
              "      <td>...</td>\n",
              "      <td>...</td>\n",
              "      <td>...</td>\n",
              "      <td>...</td>\n",
              "    </tr>\n",
              "    <tr>\n",
              "      <th>4351</th>\n",
              "      <td>61f57f62306802033034ceed</td>\n",
              "      <td>536</td>\n",
              "      <td>['avventura', 'cascata']</td>\n",
              "      <td>['esperienza', 'step', 'contatto', 'realtà', '...</td>\n",
              "      <td>259200000.0</td>\n",
              "      <td>2022-01-29T17:54:42.761Z</td>\n",
              "      <td>2022-01-29T17:54:42.000+00:00</td>\n",
              "      <td>0</td>\n",
              "      <td>42.0</td>\n",
              "      <td>0</td>\n",
              "      <td>0</td>\n",
              "      <td>0</td>\n",
              "      <td>0</td>\n",
              "      <td>0</td>\n",
              "      <td>1</td>\n",
              "      <td>4320.0</td>\n",
              "      <td>57</td>\n",
              "    </tr>\n",
              "    <tr>\n",
              "      <th>4352</th>\n",
              "      <td>61f668fa306802033034d239</td>\n",
              "      <td>536</td>\n",
              "      <td>['avventura']</td>\n",
              "      <td>['spalla', 'esperienza', 'lascito', 'vista', '...</td>\n",
              "      <td>57600000.0</td>\n",
              "      <td>2022-01-30T10:31:22.977Z</td>\n",
              "      <td>2022-01-30T10:31:22.000+00:00</td>\n",
              "      <td>0</td>\n",
              "      <td>35.0</td>\n",
              "      <td>0</td>\n",
              "      <td>0</td>\n",
              "      <td>0</td>\n",
              "      <td>0</td>\n",
              "      <td>0</td>\n",
              "      <td>1</td>\n",
              "      <td>960.0</td>\n",
              "      <td>57</td>\n",
              "    </tr>\n",
              "    <tr>\n",
              "      <th>4353</th>\n",
              "      <td>620bbf26b1675d6cc11232f8</td>\n",
              "      <td>431</td>\n",
              "      <td>['loma', 'polmon']</td>\n",
              "      <td>['mese', 'sole', 'capital', 'nuvola', 'nebbia'...</td>\n",
              "      <td>9000000.0</td>\n",
              "      <td>2022-02-15T14:56:39.554Z</td>\n",
              "      <td>2022-02-15T14:56:38.000+00:00</td>\n",
              "      <td>1</td>\n",
              "      <td>37.0</td>\n",
              "      <td>0</td>\n",
              "      <td>0</td>\n",
              "      <td>0</td>\n",
              "      <td>0</td>\n",
              "      <td>0</td>\n",
              "      <td>1</td>\n",
              "      <td>150.0</td>\n",
              "      <td>41</td>\n",
              "    </tr>\n",
              "    <tr>\n",
              "      <th>4354</th>\n",
              "      <td>61f3c6add91e9928f6e0922a</td>\n",
              "      <td>431</td>\n",
              "      <td>['lima']</td>\n",
              "      <td>['angolo', 'turista', 'calor', 'gent', 'bellez...</td>\n",
              "      <td>172800000.0</td>\n",
              "      <td>2022-02-01T16:57:01.557Z</td>\n",
              "      <td>2022-01-28T10:34:21.000+00:00</td>\n",
              "      <td>1</td>\n",
              "      <td>51.0</td>\n",
              "      <td>0</td>\n",
              "      <td>0</td>\n",
              "      <td>0</td>\n",
              "      <td>0</td>\n",
              "      <td>0</td>\n",
              "      <td>1</td>\n",
              "      <td>2880.0</td>\n",
              "      <td>59</td>\n",
              "    </tr>\n",
              "    <tr>\n",
              "      <th>4355</th>\n",
              "      <td>61fae86453a6a72116188980</td>\n",
              "      <td>158</td>\n",
              "      <td>[]</td>\n",
              "      <td>['viaggio', 'dubbio', 'isola', 'galapago', '50...</td>\n",
              "      <td>345600000.0</td>\n",
              "      <td>2022-02-07T19:19:09.439Z</td>\n",
              "      <td>2022-02-02T20:24:04.000+00:00</td>\n",
              "      <td>3</td>\n",
              "      <td>75.0</td>\n",
              "      <td>0</td>\n",
              "      <td>0</td>\n",
              "      <td>0</td>\n",
              "      <td>0</td>\n",
              "      <td>0</td>\n",
              "      <td>1</td>\n",
              "      <td>5760.0</td>\n",
              "      <td>53</td>\n",
              "    </tr>\n",
              "  </tbody>\n",
              "</table>\n",
              "<p>4356 rows × 17 columns</p>\n",
              "</div>\n",
              "      <button class=\"colab-df-convert\" onclick=\"convertToInteractive('df-f18ede9c-001c-4905-a859-d13b42cbfe8c')\"\n",
              "              title=\"Convert this dataframe to an interactive table.\"\n",
              "              style=\"display:none;\">\n",
              "        \n",
              "  <svg xmlns=\"http://www.w3.org/2000/svg\" height=\"24px\"viewBox=\"0 0 24 24\"\n",
              "       width=\"24px\">\n",
              "    <path d=\"M0 0h24v24H0V0z\" fill=\"none\"/>\n",
              "    <path d=\"M18.56 5.44l.94 2.06.94-2.06 2.06-.94-2.06-.94-.94-2.06-.94 2.06-2.06.94zm-11 1L8.5 8.5l.94-2.06 2.06-.94-2.06-.94L8.5 2.5l-.94 2.06-2.06.94zm10 10l.94 2.06.94-2.06 2.06-.94-2.06-.94-.94-2.06-.94 2.06-2.06.94z\"/><path d=\"M17.41 7.96l-1.37-1.37c-.4-.4-.92-.59-1.43-.59-.52 0-1.04.2-1.43.59L10.3 9.45l-7.72 7.72c-.78.78-.78 2.05 0 2.83L4 21.41c.39.39.9.59 1.41.59.51 0 1.02-.2 1.41-.59l7.78-7.78 2.81-2.81c.8-.78.8-2.07 0-2.86zM5.41 20L4 18.59l7.72-7.72 1.47 1.35L5.41 20z\"/>\n",
              "  </svg>\n",
              "      </button>\n",
              "      \n",
              "  <style>\n",
              "    .colab-df-container {\n",
              "      display:flex;\n",
              "      flex-wrap:wrap;\n",
              "      gap: 12px;\n",
              "    }\n",
              "\n",
              "    .colab-df-convert {\n",
              "      background-color: #E8F0FE;\n",
              "      border: none;\n",
              "      border-radius: 50%;\n",
              "      cursor: pointer;\n",
              "      display: none;\n",
              "      fill: #1967D2;\n",
              "      height: 32px;\n",
              "      padding: 0 0 0 0;\n",
              "      width: 32px;\n",
              "    }\n",
              "\n",
              "    .colab-df-convert:hover {\n",
              "      background-color: #E2EBFA;\n",
              "      box-shadow: 0px 1px 2px rgba(60, 64, 67, 0.3), 0px 1px 3px 1px rgba(60, 64, 67, 0.15);\n",
              "      fill: #174EA6;\n",
              "    }\n",
              "\n",
              "    [theme=dark] .colab-df-convert {\n",
              "      background-color: #3B4455;\n",
              "      fill: #D2E3FC;\n",
              "    }\n",
              "\n",
              "    [theme=dark] .colab-df-convert:hover {\n",
              "      background-color: #434B5C;\n",
              "      box-shadow: 0px 1px 3px 1px rgba(0, 0, 0, 0.15);\n",
              "      filter: drop-shadow(0px 1px 2px rgba(0, 0, 0, 0.3));\n",
              "      fill: #FFFFFF;\n",
              "    }\n",
              "  </style>\n",
              "\n",
              "      <script>\n",
              "        const buttonEl =\n",
              "          document.querySelector('#df-f18ede9c-001c-4905-a859-d13b42cbfe8c button.colab-df-convert');\n",
              "        buttonEl.style.display =\n",
              "          google.colab.kernel.accessAllowed ? 'block' : 'none';\n",
              "\n",
              "        async function convertToInteractive(key) {\n",
              "          const element = document.querySelector('#df-f18ede9c-001c-4905-a859-d13b42cbfe8c');\n",
              "          const dataTable =\n",
              "            await google.colab.kernel.invokeFunction('convertToInteractive',\n",
              "                                                     [key], {});\n",
              "          if (!dataTable) return;\n",
              "\n",
              "          const docLinkHtml = 'Like what you see? Visit the ' +\n",
              "            '<a target=\"_blank\" href=https://colab.research.google.com/notebooks/data_table.ipynb>data table notebook</a>'\n",
              "            + ' to learn more about interactive tables.';\n",
              "          element.innerHTML = '';\n",
              "          dataTable['output_type'] = 'display_data';\n",
              "          await google.colab.output.renderOutput(dataTable, element);\n",
              "          const docLink = document.createElement('div');\n",
              "          docLink.innerHTML = docLinkHtml;\n",
              "          element.appendChild(docLink);\n",
              "        }\n",
              "      </script>\n",
              "    </div>\n",
              "  </div>\n",
              "  "
            ]
          },
          "metadata": {},
          "execution_count": 25
        }
      ]
    },
    {
      "cell_type": "markdown",
      "source": [
        "# Tf-Idf"
      ],
      "metadata": {
        "id": "0nHMfRid3OXs"
      }
    },
    {
      "cell_type": "code",
      "execution_count": 26,
      "metadata": {
        "id": "JFNv5GxjpPAH",
        "outputId": "c8c39a09-81dd-4135-eb7d-88db593f037f",
        "colab": {
          "base_uri": "https://localhost:8080/"
        }
      },
      "outputs": [
        {
          "output_type": "execute_result",
          "data": {
            "text/plain": [
              "<4356x17749 sparse matrix of type '<class 'numpy.float64'>'\n",
              "\twith 203045 stored elements in Compressed Sparse Row format>"
            ]
          },
          "metadata": {},
          "execution_count": 26
        }
      ],
      "source": [
        "from sklearn.feature_extraction.text import TfidfVectorizer\n",
        "tfidf_vectorizer = TfidfVectorizer(lowercase=False)\n",
        "# description and title are put together\n",
        "text = data['description'] + data['title']\n",
        "tfidf_schede = tfidf_vectorizer.fit_transform((text))\n",
        "tfidf_schede"
      ]
    },
    {
      "cell_type": "code",
      "source": [
        "df_tfidf = pd.DataFrame(tfidf_schede.toarray(), columns=tfidf_vectorizer.get_feature_names())\n",
        "#print(df_tfidf)"
      ],
      "metadata": {
        "colab": {
          "base_uri": "https://localhost:8080/"
        },
        "id": "XHASKm0xXmGc",
        "outputId": "11d60951-52fb-4e6e-efe3-12fb17bd3ca6"
      },
      "execution_count": 27,
      "outputs": [
        {
          "output_type": "stream",
          "name": "stderr",
          "text": [
            "/usr/local/lib/python3.7/dist-packages/sklearn/utils/deprecation.py:87: FutureWarning: Function get_feature_names is deprecated; get_feature_names is deprecated in 1.0 and will be removed in 1.2. Please use get_feature_names_out instead.\n",
            "  warnings.warn(msg, category=FutureWarning)\n"
          ]
        }
      ]
    },
    {
      "cell_type": "markdown",
      "source": [
        "# Embeddings"
      ],
      "metadata": {
        "id": "L8_Fe3eU47tz"
      }
    },
    {
      "cell_type": "markdown",
      "source": [
        "## Word2Vec"
      ],
      "metadata": {
        "id": "U3IOAuVPBtJQ"
      }
    },
    {
      "cell_type": "code",
      "source": [
        ""
      ],
      "metadata": {
        "id": "xIEedSQH4_D2"
      },
      "execution_count": null,
      "outputs": []
    },
    {
      "cell_type": "markdown",
      "source": [
        "## Transformers"
      ],
      "metadata": {
        "id": "r4AkwWNEBxFu"
      }
    },
    {
      "cell_type": "code",
      "source": [
        ""
      ],
      "metadata": {
        "id": "NfuXWvO-B19o"
      },
      "execution_count": null,
      "outputs": []
    },
    {
      "cell_type": "markdown",
      "source": [
        "# Recommender systems"
      ],
      "metadata": {
        "id": "TwRPNGsS3V6k"
      }
    },
    {
      "cell_type": "markdown",
      "source": [
        "## **Method \\#1**"
      ],
      "metadata": {
        "id": "Eo5jkD2L3YrW"
      }
    },
    {
      "cell_type": "markdown",
      "metadata": {
        "id": "wUBKfiOrpPAI"
      },
      "source": [
        "**Method #1:** Recommend posts that are similar to the ones that the user liked -> use cosine similarity on tf-idf"
      ]
    },
    {
      "cell_type": "code",
      "source": [
        "df_likes_ids.userId.drop_duplicates().isin(data.userId.drop_duplicates())"
      ],
      "metadata": {
        "colab": {
          "base_uri": "https://localhost:8080/"
        },
        "id": "gvtsUntjCUVu",
        "outputId": "97fd2055-2d2b-4782-d0f1-0eac5f7fea35"
      },
      "execution_count": null,
      "outputs": [
        {
          "output_type": "execute_result",
          "data": {
            "text/plain": [
              "0        True\n",
              "1        True\n",
              "3        True\n",
              "5        True\n",
              "6       False\n",
              "        ...  \n",
              "1338    False\n",
              "1425     True\n",
              "1458    False\n",
              "1459    False\n",
              "1468    False\n",
              "Name: userId, Length: 116, dtype: bool"
            ]
          },
          "metadata": {},
          "execution_count": 14
        }
      ]
    },
    {
      "cell_type": "code",
      "execution_count": null,
      "metadata": {
        "id": "M9hlCUdgpPAI",
        "outputId": "fb880f3d-b653-4f13-d33c-e34ac407c3f8"
      },
      "outputs": [
        {
          "data": {
            "text/plain": [
              "userId\n",
              "114    [61447a3224c29e59fe4c06ab, 61824f5f21889d3548f...\n",
              "119    [6172da4472b6f336088b932b, 6218ec9f29ef4a75805...\n",
              "129    [615acf21eb3bf47494b8e64b, 61aa039788b2e606829...\n",
              "149    [61faf5d953a6a72116188d5b, 61f41fe330680203303...\n",
              "150    [61b72f34e364b82f2ac8c88c, 61f3c801d91e9928f6e...\n",
              "                             ...                        \n",
              "630    [62215a990a0ebd53f7469748, 62174fea99163528c06...\n",
              "632                           [6229df13aeb26768dc408e81]\n",
              "637    [6212993a4f9d177c90f3830f, 6224bdb835684f072b2...\n",
              "639                           [620a39a4e7ce7d5992612316]\n",
              "640    [622aeada99fd4c40442f3082, 6217ab40ae6735171d5...\n",
              "Name: id, Length: 116, dtype: object"
            ]
          },
          "execution_count": 30,
          "metadata": {},
          "output_type": "execute_result"
        }
      ],
      "source": [
        "#list of user\n",
        "users = pd.concat([df_likes_ids.userId, data.userId]).drop_duplicates() #some ids in likes are not in posts -> some users liked posts but not posted one\n",
        "#list of posts' id\n",
        "posts = data.id\n",
        "#list of users and posts they liked\n",
        "users_likes = df_likes_ids.groupby(\"userId\").id.apply(list)\n",
        "users_likes"
      ]
    },
    {
      "cell_type": "code",
      "execution_count": null,
      "metadata": {
        "id": "FmapPXpFpPAJ"
      },
      "outputs": [],
      "source": [
        "from sklearn.metrics.pairwise import cosine_similarity\n",
        "cosine_sim = cosine_similarity(tfidf_schede, tfidf_schede)"
      ]
    },
    {
      "cell_type": "code",
      "execution_count": null,
      "metadata": {
        "id": "7i0DdcMJpPAJ"
      },
      "outputs": [],
      "source": [
        "def get_recommendations(user_id: int):\n",
        "    # Get the index of the user that we want to recommend posts to\n",
        "    user_id_idx = df_schede[df_schede == user_id].index[0]\n",
        "    # Get the pairwise similarity scores of all posts with that user\n",
        "    sim_scores = list(enumerate(cosine_sim[user_id_idx]))\n",
        "    # Sort the posts based on the similarity scores\n",
        "    sim_scores = sorted(sim_scores, key=lambda x: x[1], reverse=True)\n",
        "    # Get the scores of the 5 most similar posts\n",
        "    sim_scores = sim_scores[1:6]\n",
        "    # Get the blog post ids\n",
        "    post_ids = [i[0] for i in sim_scores]\n",
        "    # Return the blog posts\n",
        "    return df_schede.iloc[post_ids]\n",
        "\n",
        "def print_recommendations(recommended_posts):\n",
        "    for i in range(len(recommended_posts)):\n",
        "        print(\"Post #\" + str(i+1) + \":\")\n",
        "        print(\"Post ID: \" + str(recommended_posts.iloc[i].id))\n",
        "        print(\"Title: \" + str(recommended_posts.iloc[i].title))\n",
        "        print(\"Description: \" + str(recommended_posts.iloc[i].description))\n",
        "        print(\"\\n\")"
      ]
    },
    {
      "cell_type": "code",
      "execution_count": null,
      "metadata": {
        "id": "I1AzcG8YpPAJ",
        "outputId": "e9486687-702d-404d-8660-4f9dc7e8860f"
      },
      "outputs": [
        {
          "name": "stdout",
          "output_type": "stream",
          "text": [
            "Posts:\n",
            "92    Bemo - immergiti nella vita locale indonesiana\n",
            "Name: title, dtype: object\n",
            "----------------------------------------------------------------------------------------------------\n"
          ]
        }
      ],
      "source": [
        "id = 632\n",
        "#print(\"Posts that user {} liked:\".format(id))\n",
        "liked_posts = df_likes_ids[df_likes_ids[\"userId\"] == id]\n",
        "#print(liked_posts)\n",
        "print(\"Posts:\")\n",
        "for _,p in liked_posts.iterrows():\n",
        "    post = df_schede[df_schede[\"id\"]== p[\"id\"]]\n",
        "    if not post.description.empty:\n",
        "        print(post.title)\n",
        "        print(\"-\"*100)"
      ]
    },
    {
      "cell_type": "code",
      "execution_count": null,
      "metadata": {
        "id": "XjenmoitpPAK",
        "outputId": "f24bd37e-f943-46d6-9eaa-fa2354fd38e8"
      },
      "outputs": [
        {
          "name": "stdout",
          "output_type": "stream",
          "text": [
            "Post #1:\n",
            "Post ID: 61f6ce0b306802033034e3e7\n",
            "Title: Le spiagge più belle della Sardegna\n",
            "Description: La Sardegna è una regione ricca di spiagge meravigliose e mare dal colore cristallino, cercheremo di aiutarvi a trovare le spiagge più belle e quelle che secondo noi non potete assolutamente perdervi se fate un viaggio in questa regione fantastica!\n",
            "\n",
            "📌Berchida\n",
            "Berchida è una delle spiagge più lunghe e spaziosi della Sardegna. La Spiaggia è posizionata poco sopra il Golfo di Orosei ed è quasi tutta di sabbia finissima, inoltre, riesce a sorprenderti per i colori della sua acqua, davvero cristallina. La grandezza della spiaggia gioca a favore anche per la possibilità di avere un po’ di privacy e relax.\n",
            "\n",
            "📌Spiaggia di S’archittu\n",
            "Questa spiaggia è situata nella parte ovest della Sardegna poco sopra Oristano. La spiaggia in sé non è molto grande quindi vi consigliamo di arrivare presto per trovare posto. La particolarità è la presenza di un arco, appunto Archittu, formato dalla scogliera che racchiude la spiaggia, dove è anche possibile fare dei tuffi.\n",
            "\n",
            "📌Capo Coda Cavallo\n",
            "Una delle spiagge più conosciute in assoluto della Sardegna è senza dubbio: Capo Coda Cavallo. Anche per questa spiaggia vogliamo farvi una premessa, c’è un limite di persone che possono entrare, quindi se volete essere sicuri di potervela godere andateci presto. La spiaggia è abbastanza lunga ma molto stretta quindi diciamo che sarete in buona compagnia! Un consiglio è di visitare anche il suo punto panoramico dove riuscirete a vedere gran parte della costa, e che si raggiunge continuando a salire lungo la strada d’ingresso della spiaggia.\n",
            "\n",
            "📌Spiaggia di Posada\n",
            "La spiaggia che più di tutte abbiamo vissuto durante la nostra estate in Sardegna è stata la spiaggia di Posada. Decisamente molto grande e con poca affluenza si rivela la scelta giusta se ci si vuole rilassare senza che nessuno ti disturbi. Sulla spiaggia è presente anche un bar davvero molto comodo e utile.\n",
            "\n",
            "📌La Cinta San Teodoro\n",
            "Una spiaggia lunga quasi 5km di sabbia bianca e molto popolata eccoci giunti a San Teodoro, precisamente alla Cinta. Davvero molto bella e attrezzata è una spiaggia che non può mancare durante una visita in questa regione. Vi consigliamo inoltre di fare un giro per il paese davvero molto carino e movimentato soprattutto di sera.\n",
            "\n",
            "📌La Pelosa Stintino\n",
            "La Pelosa di Stintino è una delle spiagge-icona della Sardegna. La sabbia è bianca e finissima, l’acqua di un colore cristallino che arriva alle caviglie per decine di metri. Direte voi non c’è nemmeno un punto a sfavore?! Forse giusto uno, la spiaggia è davvero piccola e farete fatica a trovare posto per il vostro ombrellone o telo da mare!\n",
            "\n",
            "\n",
            "\n",
            "Post #2:\n",
            "Post ID: 621a0d4e29ef4a75805b9a11\n",
            "Title: Tropea ❣️\n",
            "Description: La Calabria , un posto decisamente da scoprire. \n",
            "Il mare in Calabria è meraviglioso è ancora più belli sono i suoi Borghi, uno di questi è Tropea❣️\n",
            "\n",
            "🌊 Un borgo arroccato su una rupe tufacea a picco sul mare. Ci sono molto b&b al centro di Tropea o vari residence vicino la spiaggia. Vi consiglio di arrivare con il treno, oppure parcheggiare la macchina in un parcheggio custodito e riprenderla solo al ritorno. Non vi servirà !\n",
            "\n",
            "🌊Il centro storico di Tropea è piccolino, ha il corso centrale e poi tanti piccoli vicoli tutti da scoprire.\n",
            "\n",
            "🌊Non vi dovete assolutamente perdere l’affaccio, alias il Belvedere, si trova alla fine del corso di Tropea , è considerato uno degli affacci più belli del mondo. \n",
            "\n",
            "🌊Per andare in spiaggia vi consiglio di scendere leggeri, senza troppi pesi, perché ci sono parecchie scale da fare. La spiaggia che vi consiglio io è vicino allo stabilimento balneare “le Roccette”, è una spiaggia libera ,a comunque qualsiasi spiaggia è meravigliosa.\n",
            "\n",
            "🌊Salite sul Santuario di Santa Maria dell'isola, si trova nella peté bassa di Tropea, si paga circa 2€ per salire ma ne vale la pena , andate un oretta prima che tramonti il sole, così da poter visitare il santuario e i suoi giardini e poter fare foto mozzafiato al tramonto, se sarà limpido il cielo potrete avere la fortuna di vedere Stromboli\n",
            "\n",
            "🌊Gita alle isole Eolie, tappa fondamentale. Dal porto partono varie barche che vi porteranno a fare un tour delle isole, dovrete dedicare un intera giornata a questa esperienza ma credetemi ne vale la pena.\n",
            "\n",
            "🌊Cibo, tappa fondamentale,avrete una vasta scelta ,Tropea ha tantissimi ristoranti , uno più buono dell’altro. \n",
            "\n",
            "🌊Passeggiate di sera, e perdetevi tra i vicoli di Tropea , la notte è molto movimentata e avrete la possibilità di scegliere tra tantissimi locali. \n",
            "\n",
            "🌊Non dovete assolutamente perdervi un giro in pedalò, vi sembrerà banale ma non lo è, potrete così avere la possibilità di ammontare meglio il meraviglioso mare di cui gode Tropea.\n",
            "\n",
            "Buon viaggio 👋🏻 \n",
            "\n",
            "\n",
            "\n",
            "\n",
            "Post #3:\n",
            "Post ID: 620abb33ff8ae67f37cafe3c\n",
            "Title: Freedom beach\n",
            "Description: Forse la spiaggia più bella di tutta l’isola di phuket! Freedom beach si trova vicino la spiaggia di patong ed è possibile raggiungerla solo via mare perché è abbastanza complicato arrivarci via terra, per la foresta che circonda la spiaggia! Proprio per questo nella spiaggia vicina troverete che fanno servizio taxi, tanti locali che vi porteranno sulla spiaggia in barca e aspetteranno li in barca mentre voi vi godete la giornata di sole e farete il bagno nell’acqua cristallina dell’oceano!\n",
            "\n",
            "\n",
            "Post #4:\n",
            "Post ID: 620265bd86f56a61f97d4145\n",
            "Title: Waimanalo Beach, una delle spiagge più belle\n",
            "Description: Ho un debole per le spiagge, specialmente quelle di sabbia bianca e sottile e l'acqua azzurra.\n",
            "\n",
            "La spiaggia di Waimanalo, a sud est dell'isola di Oahu, alle Hawaii, rispecchia perfettamente questa descrizione, facendola entrare tra le mie spiagge preferite di tutti i tempi.\n",
            "\n",
            "E quando parlo di acqua azzurra intendo in questo caso una tinta così accesa da essere quasi fluorescente. La sabbia è bianca a sottile, in una distesa semi deserta di circa 8.5 chilometri.\n",
            "\n",
            "Alle sue spalle la spiaggia è protetta da alberi sempreverdi chiamati Ironwood che la riparano dal vento e costituiscono anche un ottimo 'ombrellone' naturale per il sole.\n",
            "\n",
            "Waimanalo si trova circa a una mezz'ora da Honolulu e si può raggiungere sia in auto che in bus.\n",
            "\n",
            "Quando ci sono stata io, durante la settimana, c'erano pochissime persone, l'acqua era calma e la temperatura particolarmente calda, cosa che io adoro.\n",
            "\n",
            "Il fondale non è subito alto quindi la riva è adatta per bagnarsi gradualmente.\n",
            "\n",
            "La spiaggia è veramente enorme e appena ci si arriva l', impatto è forte perché sembra proprio un paradiso terrestre. È bella anche perché ancora selvaggia, non ci sono bagnini nè ombrelloni e sdraio.\n",
            "\n",
            "Vi conviene quindi portare da casa l'attrezzatura e soprattutto mangiare e bere. In alternativa, sulla strada principale ci sono un Market e dei truck che preparano qualcosa da mangiare.\n",
            "\n",
            "Se amate le spiagge tropicali Waimanalo deve essere sicuramente tra le spiagge da visitare alle Hawaii. \n",
            "\n",
            "\n",
            "Post #5:\n",
            "Post ID: 61373676f612585fc7b9f838\n",
            "Title: Un tramonto in spiaggia\n",
            "Description: Una fuga dalla città è quel che ci vuole per ritrovare l’energia, andando alla scoperta di una località diversa, è cio che serve per ricaricarsi durante le vacanze.\n",
            "Tempo fa vidi in tv uno dei tanti documentari del grande Alberto Angela sull’antica Roma e una parte di questo era girato sulla spiaggia della villa di Tiberio a Sperlonga: da lì, dalle immagini di quella spiaggia con la grotta e le rovine sopra, è partita l’idea di andare alla scoperta di questa zona che non conoscevo e che ha superato tutte le aspettative.\n",
            "Mi sono recato lì in una splendida giornata di sole, le ampie spiagge sabbiose ed il mare limpido e fresco, sono cio che mi ha colpito.\n",
            "Passare la giornata riposandosi in spiaggia e staro ritemprante, ma anche fare una lunga passeggiata lungo la costa mi ha rilassato molto.\n",
            "La lunga e larga spiaggia sulla quale sono stato era perfetta per la mia passeggiata, inoltre la sabbia fine e pulitissima e stata terapeutica per i miei dolori muscolari.\n",
            "Lo stabilimento era molto ben tenuto e dotato quasi di tutti comfort necessari, ho potuto finanche ordinare un aperitivo pomeridiano all’ombrellone e godermi il sole che tramontava sul mare.\n",
            "È stato un momento quasi paradisiaco che non vedo l’ora di riprovare\n",
            "\n",
            "Panorama\n",
            "Mare\n",
            "Tramonto\n",
            "Relax\n",
            "Passeggiate \n",
            "Spiaggia \n",
            "\n",
            "\n",
            "\n",
            "Post #6:\n",
            "Post ID: 6207aa12b1d0940f12257b57\n",
            "Title: 3 spiagge poco conosciute in Calabria \n",
            "Description: Durante il nostro Coast tuo coast della Calabria, abbiamo avuto la fortuna di scoprire anche alcuni posti non particolarmente conosciuti, nascosti e incredibilmente meravigliosi. Tra borghi, bellezze naturali e ristoranti i nascosti abbiamo trovato anche spiagge mozzafiato dai colori caraibici.\n",
            "\n",
            "A dirla tutta dobbiamo ringraziare anche tutti i calabresi che ci hanno scritto fornendoci informazioni e consigli preziosissimi su cosa visitare, luoghi che solo i locals possono conoscere .\n",
            "\n",
            "Spiaggia di Michelino\n",
            "\n",
            "Non distante dalle spiagge Tropea,  presso Pargelia , la spiaggia di Michelino si caratterizza per sabbia bianchissima e mare verdeacqua che ci ricorda quasi quello della Repubblica Dominicana.\n",
            "Nascosta dalle vegetazione e dalla bianca scogliere, la spiaggia di Michelino non é assolutamente una spiaggia attrezzata quindi se avete bambini meglio organizzarvi per bene.\n",
            "\n",
            "Inoltre per raggiungerla dovete percorrere una lunga e ripida discesa di scale che si conclude con un bivio. A questo bivio, tocca voi:  potete scegliere se sistemarvi sulla spiaggia a destra o quella a sinistra. Noi abbiamo scelto la scenografica parte destra, perfetta anche per lo snorkeling.\n",
            "\n",
            "Spiaggia Paradiso del sub\n",
            "\n",
            "Situata a Zambrone, il nome ufficiale di questa spiaggia é la Marinella ma tutti la conoscono come Paradiso del Sub. Per raggiungere questa spiaggia, la strada é ancora più ripida e sicuramente più dissestata della spiaggia precedente. Inoltre dovete attraversare la scogliera con prudenza e attenzione e finalmente sarete su questa spiaggia bianca.\n",
            "\n",
            "Piscine, Ferruzzano\n",
            "\n",
            "Le chiamano piscine e sapete perché? Per la scogliera che ha creato splendide piscine di acqua cristallina. Siamo sul mar Ionio, il fondale qui è abbastanza differente dal quello del versante opposto ma l’acqua è sempre trasparente e limpida.\n",
            "\n",
            "\n",
            "Post #7:\n",
            "Post ID: 61f3cd38306802033034afa4\n",
            "Title: I ripari di Giobbe\n",
            "Description: La storia del come sono finito ai ripari di Giobbe, o più nello specifico ad Ortona è lunga, lunga almeno 6 anni. all'Università ho avuto la fortuna di conoscere un ragazzo del luogo che puntualmente ogni anno ci invitava a passare l'estate da lui, ma tra una cosa e l'altra si finiva sempre per rimandare all'anno successivo. Un anno poi c'è stata la svolta e si è partiti. Destinazione Ortona, che all'inizio ignoravo fosse una città di mare.\n",
            "Onestamente non avevo grandi aspettative, però quello che ho trovato è stata una spiaggia molto particolare:\n",
            "si raggiunge in auto e poi si scende per una non proprio comodissima \"scalinata\" per lo più sconnessa che al ritorno poi è anche peggio, nulla di insormontabile ma comunque degna di nota. Una volta però raggiunta la spiaggia il posto è incantevole, il mare è limpido, non c'è sabbia solo ciottoli ma c'è sia una parte attrezzata con ombrelloni e lettini che una parte di spiaggia libera. L'acqua diventa subito profonda al contrario di come normalmente ci ha abituato il Mar Adriatico in altre sue spiagge. Nella zona attrezzata c'è anche un bar per prendere qualcosa da mangiare, non vicinissimo alla zona di spiaggia libera ma sempre meglio che rifare la scalinata. Il posto è veramente bello, certo potrebbe essere attrezzato un po' meglio e costruito un passaggio decente ma comunque resta una spiaggia da visitare. Così bella che alla fine ci siamo tornati per 2 anni di fila.\n",
            "\n",
            "\n",
            "Post #8:\n",
            "Post ID: 620d2de325398565dadb6ad2\n",
            "Title: Il paradiso dei sub \n",
            "Description: Sembra il paradiso ma si tratta della spiaggia di Zambrone, in Calabria. Una delle spiagge più bella del Tirreno, un mare stupendo e una spiaggia poco affollata e ancora del tutto selvaggia. Raggiungere la spiaggia non è facilissimo, bisogna lasciare la macchina e percorrere un sentiero a piedi per giungere alla spiaggia, ma ne vale davvero la pena! Alla fine degli scalini ci si ritrova di fronte a un vero spettacolo della natura! Viene detta il paradiso dei sub perché è ideale per chi pratica snorkeling: mare cristallino circondato dai colori e i profumi della macchia mediterranea e dominata dallo Scoglio del Leone. \n",
            "\n",
            "\n",
            "Post #9:\n",
            "Post ID: 621f3f7e82ed1d1eef3a3e92\n",
            "Title: Amata da Troisi, la Spiaggia di Pollara\n",
            "Description: Salina è una piccola isola selvaggia che fa parte dell'arcipelago delle 📍Isole Eolie, tra tutte quella più fertile da un punto di vista geofisico. L'attrazione principale di quest'isola è la 🌊spiaggia di Pollara, famosa per il suo mare cristallino e per le pareti bianche che la circondano. \n",
            "\n",
            "Si può raggiungere dal mare in 🛥Barca ma anche 🚶🏻via terra attraversando un sentiero. L’intera zona è tenuta molto bene e anche se di per se la spiaggia è piccola consiglio in ogni caso di dare un'occhiata. Vi chiedere forse perchè..\n",
            "\n",
            "Avete presente il 🎬film ‘Il postino’ con protagonista il grande Massimo Troisi? E’ proprio qui nella Spiaggia di Pollara che nel 1993 furono girate alcune scene del film. Ad affacciarsi su questa baia c’è la casa rossa dove nel film viveva il poeta Pablo Neruda. Oggi vanta un altissima richiesta da parte dei turisti per essere affittata per qualche settimana.\n",
            "\n",
            "💁🏼‍♀️Vi consiglio vivamente di passare dalla Spiaggia di Pollara, un angolo eoliano di rilievo nella storia del cinema italiano.\n",
            "\n",
            "\n",
            "Post #10:\n",
            "Post ID: 621d4eacca66782104a4a099\n",
            "Title: Ios, Cicladi. Piccola guida pratica \n",
            "Description: Ios non è affatto un’isola pianeggiante e si estende per 108,7 km² con un’altitudine di 713 m.\n",
            "\n",
            "➡️Come muoversi \n",
            "Non esiste una vera e propria strada di costa che vi porti da un punto all’altro dell’isola che dovrete invece letteralmente “attraversare”, percorrendo le montagne che la caratterizzano.\n",
            "\n",
            "Inoltre alcune strade che portano a spiagge deserte e mozzafiato sono rocciose e sterrate per cui potete:\n",
            "\n",
            "🚘 Noleggiare un’auto; tenendo presente che dovrete parcheggiare e proseguire poi a piedi (non preoccupatevi perchè troverete sempre aree di parcheggio piuttosto ampie).\n",
            "🏍 Noleggiare un quod; vi permette di percorrere con facilità ogni tipo di strada e quindi fermarvi il più vicino possibile ad ogni spiaggia.\n",
            "🛵 Noleggiare uno scooter; in questo caso possiamo dirvi che il costo giornaliero del noleggio scooter è di 20/22 € e la cilindrata massima che troverete disponibile sarà di 125 cc (l’assicurazione è esclusa e il costo si aggira intorno ai 3 euro al giorno)\n",
            "Dovete essere molto esperti alla guida dello scooter per le strade sterrate dell’isola oppure anche in questo caso parcheggiare e proseguire a piedi.\n",
            "\n",
            "Inoltre potreste incontrare molto vento sull’isola quindi, prestate molta attenzione in scooter e portate con voi una giacca a vento)\n",
            "\n",
            "Noi abbiamo noleggiato lo scooter al Porto da Jacobs e con il pagamento in contanti abbiamo speso 20 euro al giorno.\n",
            "\n",
            "Il costo della Benzina si aggira intorno ad 1,90 € al litro (prezzo riferito ad anno 2021)\n",
            "\n",
            "🛌 Dove alloggiare \n",
            "\n",
            "\n",
            "A nostro parere la zona migliore in cui soggiornare a Ios è il porto.\n",
            "Noi abbiamo alloggiato presso l’Acteon hotel, struttura pulita e silenziosa , 2 stelle, con prezzo ragionevole ( per mese di Luglio 2021 circa 50 euro a notte con prenotazione effettuata su Booking).\n",
            "\n",
            "Nella zona del Porto di Ios troverete bar e bakery, noleggio moto, quod e auto, supermercati, noleggio barca e fermata del bus.\n",
            "Inoltre siete a 10 minuti a piedi da Chora, città principale dell’isola.\n",
            "\n",
            "Altra zone interessanti per soggiornare sono, Mylopotas, zona amata dai giovani e non solo, per la presenza di ristoranti, beach club e spiagge attrezzate, ma anche Gialos, non molto distante dal porto.\n",
            "\n",
            "🤔Cosa fare a Ios\n",
            "\n",
            "Ios offre spiagge incredibili e indimenticabili sentieri da percorrere. Quello che sicuramente vi raccomandiamo di non perdere è:\n",
            "\n",
            "1️⃣Visitare la tomba di Omero\n",
            "\n",
            "A scuola ti avranno certamente detto che l’esistenza di Omero non è stata affatto confermata, quindi ti starai chiedendo come è possibile che esista una Tomba di Omero.\n",
            "\n",
            "Quella che trovi a Ios, è in realtà un cenotafio e si trova sull’isola perché, secondo alcune leggende, Omero (semmai fosse esistito) sarebbe morto su quest’isola: per alcuni egli fu ucciso dagli abitanti Ios perchè non seppe rispondere ad un loro quesito, per altri invece avrebbe scelto di morire sull’isola che aveva dato i natali alla madre Climene.\n",
            "\n",
            "La visita è totalmente gratuita\n",
            "\n",
            "\n",
            "2️⃣ Scoprire Paleokastro\n",
            "\n",
            "Si tratta dei resti di un castello bizantino di cui il fascino è dato dal percorso stesso che si affronta per arrivarvi; costeggerete a piedi la montagna su una strada tenuta davvero bene.\n",
            "\n",
            "Forse ci soffre di vertigini potrebbe avere un po’ paura (soprattutto se la giornata è anche un po’ ventosa).\n",
            "\n",
            "Il percorso è comunque semplicissimo e regala viste panoramiche davvero uniche.\n",
            "\n",
            "3️⃣Aperitivo a Mylopotas\n",
            "\n",
            "Mylopatas è una zona molto in voga ad Ios, frequentata da giovani e famiglie.\n",
            "Potete prendere sdraio e ombrellone a prezzo contenuto oppure mangiare un gyros per soli 2,70, in uno dei locali fronte spiaggia.\n",
            "\n",
            "Godervi il tramonto \n",
            "Cena o pranzo in una taverna greca \n",
            "Giornata di relax e mare a Magganari\n",
            "Andare alla ricerca di spiagge deserte e semisconosciute\n",
            "\n",
            "4️⃣ Godervi il tramonto\n",
            "\n",
            "Se digitate su Google “tramonto a Ios” probabilmente otterrete tra i primi risultati, alcuni sunset bar recensiti su Tripadvisor.\n",
            "\n",
            "Noi abbiamo trovato uno spot fotografico fantastico che condividiamo con voi.\n",
            "\n",
            "Seguite le indicazioni per Ios Club Sunset Dining Bar e proseguite poi per quella strada per pochi metri ( la strada termina su una proprietà privata delimitata da un cancello).\n",
            "\n",
            "La curva poco più sopra è un punto perfetto.\n",
            "\n",
            "Altro luogo incantevole per osservare il tramonto è la chiesa di Agia Irini, una meravigliosa chiesa ortodossa completamente bianca che guarda il mare. La si vede appena si entra nelle acque del porto di Ios che accoglie i viaggiatori che arrivano e saluta quelli che partono.\n",
            "\n",
            "5️⃣ Cena o pranzo in una taverna greca \n",
            "\n",
            "Le taverne greche, quelle vere, sono la soluzione migliore per mangiare benissimo e spendere poco. Ne abbiamo trovate e provate due a Ios per voi che vi consigliamo vivamente:\n",
            "\n",
            "The Nest, taverna a Chora, in cui gustare solo ed esclusivamente piatti greci.\n",
            "\n",
            "Noi abbiamo mangiato:\n",
            "\n",
            "Pollo al limone con patate e Pollo al sugo di pomodoro con patate e riso (porzioni davvero abbondanti)\n",
            "Dolce tipico\n",
            "Acqua naturale\n",
            "Costo 17.50 €\n",
            "Koukos, taverna ad Agia Theodothi, con una vista bellissima sulla spiaggia.\n",
            "\n",
            "In questo caso abbiamo mangiato:\n",
            "\n",
            "Tradizionale Moussaka\n",
            "Pasticcio greco\n",
            "Acqua naturale\n",
            "Birra da mezzo litro Fix Hellas.\n",
            "Costo 20.50 €.\n",
            "\n",
            "6️⃣ Giornata di relax e mare a Magganari\n",
            "\n",
            "Magganari è una spiaggia davvero grande che si divide infatti tra Nord, Centro e Sud, caratterizzata da sabbia avorio e acqua trasparente con un fondale non troppo alto e bello per lo snorkeling.\n",
            "\n",
            "Qui troverete aree di parcheggio gratuite, lidi, spiaggia libera, bar e ristoranti.\n",
            "\n",
            "Noi abbiamo mangiato a pranzo al Venus Bar Restaurant ma il costo per due insalate e una bottiglia d’acqua non è stato affatto economico (circa 35 euro).\n",
            "\n",
            "7️⃣ Andare alla ricerca di spiagge deserte e semisconosciute\n",
            "\n",
            "Ecco le spiagge che abbiamo scoperto ad Ios a bordo del nostro scooter e che ti consigliamo:\n",
            "\n",
            "Manganari: da non confondere con Magganari, è uno spiaggia davvero molto estesa con sabbia e ciottoli dorati e fondale basso.\n",
            "\n",
            "Paralia Plakes: una cala bellissima, poco ventilata caratterizzata da sabbia dorata e fondale basso ma perfetto per lo snorkeling.\n",
            "Spesso sarete in compagnia di caprette che brucano alle vostre spalle\n",
            "\n",
            "Theodothi: una spiaggia davvero kilometrica divisa tra parte sud e parte nord, anch’esssa con sabbia dorata e possibilità di ombrellone e lettini.\n",
            "\n",
            "Tris Eklisies Beach: spiaggia accessibile solo in barca ma è un vero spettacolo vederla dall’alto.\n",
            "Psathi: pochi ombrelloni di paglia e tanta, tantissima spiaggia libera per godervi un fondale che però non è esattamente basso, anzi scende velocemente e a pochi metri dalla riva perdete già piede.\n",
            "\n",
            "Loretzaina: una cala piccola ma riparata dal vento. Percorrete tranquillamente una strada in discesa perfettamente asfaltata godetevi questa spiaggia poco affollata anche se non affatto attrezzata.\n",
            "\n",
            "Almyros: altra spiaggia solitaria ma rocciosa. Mare splendido ma purtroppo è un luogo abbandonato a se stessa e per questo spesso abbastanza sporco e tenuto davvero male.\n",
            "\n",
            "Tzamaria: spiaggia vicino al porto, davvero incantevole. Una piccola riserva naturale selvaggia. Anche questa spiaggia non è attrezzata ma il mare cristallino lascia senza parole. Piacevole trascorrere qui qualche ora e poi spostarsi al porto per rifocillarsi\n",
            "\n",
            "\n"
          ]
        }
      ],
      "source": [
        "recommended_posts = get_recommendations(id)\n",
        "print_recommendations(recommended_posts)"
      ]
    },
    {
      "cell_type": "markdown",
      "source": [
        "## **Method \\#2**"
      ],
      "metadata": {
        "id": "diJ75kBJ3lRl"
      }
    },
    {
      "cell_type": "markdown",
      "metadata": {
        "id": "DdxL4gMzpPAK"
      },
      "source": [
        "**Method #2:** Given a user, shown him the posts that are more similar to the ones he wrote "
      ]
    },
    {
      "cell_type": "code",
      "source": [
        "from sklearn.cluster import KMeans\n",
        "from sklearn.decomposition import TruncatedSVD\n",
        "import matplotlib.pyplot as plt\n",
        "%matplotlib inline "
      ],
      "metadata": {
        "id": "-pcRplRwa-at"
      },
      "execution_count": 28,
      "outputs": []
    },
    {
      "cell_type": "code",
      "execution_count": 29,
      "metadata": {
        "id": "9GZnbHIepPAK",
        "colab": {
          "base_uri": "https://localhost:8080/"
        },
        "outputId": "79cdaefd-bec6-4ee0-c8e4-4fbb1844fe4d"
      },
      "outputs": [
        {
          "output_type": "execute_result",
          "data": {
            "text/plain": [
              "userId\n",
              "77     [6154833edee05f1877c59be1, 615c2b85eb3bf47494b...\n",
              "119    [60f6d6864250196f9f64270c, 60f6d2f54250196f9f6...\n",
              "129    [61408190533f2f326b89392b, 6140834d533f2f326b8...\n",
              "149    [6190e32f068a0f468cc78c24, 620fd14f4f9d177c90f...\n",
              "150    [61c9f24721c95d5d9109316d, 62263e1161e055356b8...\n",
              "                             ...                        \n",
              "632    [62355f98272ae5672fbc3ac7, 62349ff2272ae5672fb...\n",
              "633                           [621cf9fc2fd07a48dd9f139d]\n",
              "637    [621fe10a82ed1d1eef3a495c, 6228ffd7aeb26768dc4...\n",
              "640    [622f6e2d46ef2b6d71a8deb7, 622b7950c992ca28f33...\n",
              "642                           [623318fe0e1ee15c013192a1]\n",
              "Name: id, Length: 142, dtype: object"
            ]
          },
          "metadata": {},
          "execution_count": 29
        }
      ],
      "source": [
        "#list of user\n",
        "users = pd.concat([df_likes_ids.userId, data.userId]).drop_duplicates()\n",
        "#list of posts' id\n",
        "posts = data.id\n",
        "#list of users and posts they made\n",
        "users_posts = data.groupby(\"userId\").id.apply(list)\n",
        "users_posts"
      ]
    },
    {
      "cell_type": "code",
      "source": [
        "X = pd.concat([data, df_tfidf], axis=1)"
      ],
      "metadata": {
        "id": "8NsQF89zVQfb"
      },
      "execution_count": 30,
      "outputs": []
    },
    {
      "cell_type": "code",
      "source": [
        "data_with_ids = X.drop(columns=[\"datePublishing\", \"creationDate\", \"duration\", \"description\", \"title\"])"
      ],
      "metadata": {
        "id": "Up3x_dZXBLPw"
      },
      "execution_count": 31,
      "outputs": []
    },
    {
      "cell_type": "code",
      "source": [
        "X.drop(columns=[\"id\", \"userId\", \"datePublishing\", \"creationDate\", \"duration\", \"description\", \"title\"], inplace=True)"
      ],
      "metadata": {
        "id": "7XkhZ-QgYNbY"
      },
      "execution_count": 32,
      "outputs": []
    },
    {
      "cell_type": "markdown",
      "source": [
        "### How many clusters?"
      ],
      "metadata": {
        "id": "llMccxgg-IRD"
      }
    },
    {
      "cell_type": "code",
      "source": [
        "#Plot daata using SVD\n",
        "svd = TruncatedSVD(n_components=2, n_iter=7, random_state=42)\n",
        "svd = svd.fit_transform(X)\n",
        "plt.scatter(svd[:,0], svd[:,1])\n",
        "plt.show()"
      ],
      "metadata": {
        "colab": {
          "base_uri": "https://localhost:8080/",
          "height": 265
        },
        "id": "F_fNkbNCa1Bc",
        "outputId": "7f795986-9636-4da1-be85-50157b36a6b3"
      },
      "execution_count": 13,
      "outputs": [
        {
          "output_type": "display_data",
          "data": {
            "text/plain": [
              "<Figure size 432x288 with 1 Axes>"
            ],
            "image/png": "[encoded data removed]"
          },
          "metadata": {
            "needs_background": "light"
          }
        }
      ]
    },
    {
      "cell_type": "code",
      "source": [
        "#Plot results\n",
        "def plotKMeans(label, df):\n",
        "  u_labels = np.unique(label)\n",
        "  for i in u_labels:\n",
        "      plt.scatter(df[label == i , 0] , df[label == i , 1] , label = i)\n",
        "  plt.title('K-means with {} clusters'.format(len(u_labels)))\n",
        "  plt.legend()\n",
        "  plt.show()"
      ],
      "metadata": {
        "id": "h88rHvWtawUK"
      },
      "execution_count": 14,
      "outputs": []
    },
    {
      "cell_type": "code",
      "source": [
        "inertia = []\n",
        "times = dict() #{k:time_needed}\n",
        "K = range(2,10,1) #from 2 to 50 with step of 5\n",
        "for k in K:\n",
        "    #Fit \n",
        "    start = time.time()\n",
        "    kmeanModel = KMeans(n_clusters=k)\n",
        "    kmeans = kmeanModel.fit(X)\n",
        "    time_needed = time.time() - start\n",
        "    times[k] = time_needed\n",
        "    #Elbow\n",
        "    inertia.append(kmeanModel.inertia_)\n",
        "    #Clusters\n",
        "    label = kmeans.predict(X)\n",
        "    plotKMeans(label, svd)"
      ],
      "metadata": {
        "colab": {
          "base_uri": "https://localhost:8080/",
          "height": 1000
        },
        "id": "7OQD_dduatpz",
        "outputId": "8d802b34-356e-4590-8b64-707bdc9a6ace"
      },
      "execution_count": 15,
      "outputs": [
        {
          "output_type": "display_data",
          "data": {
            "text/plain": [
              "<Figure size 432x288 with 1 Axes>"
            ],
            "image/png": "[encoded data removed]"
          },
          "metadata": {
            "needs_background": "light"
          }
        },
        {
          "output_type": "display_data",
          "data": {
            "text/plain": [
              "<Figure size 432x288 with 1 Axes>"
            ],
            "image/png": "[encoded data removed]"
          },
          "metadata": {
            "needs_background": "light"
          }
        },
        {
          "output_type": "display_data",
          "data": {
            "text/plain": [
              "<Figure size 432x288 with 1 Axes>"
            ],
            "image/png": "[encoded data removed]"
          },
          "metadata": {
            "needs_background": "light"
          }
        },
        {
          "output_type": "display_data",
          "data": {
            "text/plain": [
              "<Figure size 432x288 with 1 Axes>"
            ],
            "image/png": "[encoded data removed]"
          },
          "metadata": {
            "needs_background": "light"
          }
        },
        {
          "output_type": "display_data",
          "data": {
            "text/plain": [
              "<Figure size 432x288 with 1 Axes>"
            ],
            "image/png": "[encoded data removed]"
          },
          "metadata": {
            "needs_background": "light"
          }
        },
        {
          "output_type": "display_data",
          "data": {
            "text/plain": [
              "<Figure size 432x288 with 1 Axes>"
            ],
            "image/png": "[encoded data removed]"
          },
          "metadata": {
            "needs_background": "light"
          }
        },
        {
          "output_type": "display_data",
          "data": {
            "text/plain": [
              "<Figure size 432x288 with 1 Axes>"
            ],
            "image/png": "[encoded data removed]"
          },
          "metadata": {
            "needs_background": "light"
          }
        },
        {
          "output_type": "display_data",
          "data": {
            "text/plain": [
              "<Figure size 432x288 with 1 Axes>"
            ],
            "image/png": "[encoded data removed]"
          },
          "metadata": {
            "needs_background": "light"
          }
        }
      ]
    },
    {
      "cell_type": "code",
      "source": [
        "#Elbow\n",
        "plt.figure(figsize=(10,3))\n",
        "plt.plot(K, inertia, 'bx-')\n",
        "plt.xlabel('k')\n",
        "plt.ylabel('Inertia')\n",
        "plt.title('The Elbow Method showing the optimal k')\n",
        "plt.show()"
      ],
      "metadata": {
        "colab": {
          "base_uri": "https://localhost:8080/",
          "height": 241
        },
        "id": "n7reCtXUbYRT",
        "outputId": "efa860c5-9d29-4a0c-90d0-42a95e964fb6"
      },
      "execution_count": 16,
      "outputs": [
        {
          "output_type": "display_data",
          "data": {
            "text/plain": [
              "<Figure size 720x216 with 1 Axes>"
            ],
            "image/png": "[encoded data removed]"
          },
          "metadata": {
            "needs_background": "light"
          }
        }
      ]
    },
    {
      "cell_type": "code",
      "source": [
        "#print(inertia)\n",
        "for k,value in zip(K, inertia):\n",
        "  print(\"Inertia for {} clusters is: {}\".format(k,value))"
      ],
      "metadata": {
        "colab": {
          "base_uri": "https://localhost:8080/"
        },
        "id": "4ct15GLIbbPH",
        "outputId": "1d73a0a5-2437-4283-e1d7-3eee10f37655"
      },
      "execution_count": 17,
      "outputs": [
        {
          "output_type": "stream",
          "name": "stdout",
          "text": [
            "Inertia for 2 clusters is: 1486001939.8605075\n",
            "Inertia for 3 clusters is: 622562325.5048473\n",
            "Inertia for 4 clusters is: 354627826.5123999\n",
            "Inertia for 5 clusters is: 216438868.84854516\n",
            "Inertia for 6 clusters is: 150627530.2014159\n",
            "Inertia for 7 clusters is: 109822967.64314808\n",
            "Inertia for 8 clusters is: 71207582.21933302\n",
            "Inertia for 9 clusters is: 53926628.56294076\n"
          ]
        }
      ]
    },
    {
      "cell_type": "code",
      "metadata": {
        "id": "jMzTd3VWjikB",
        "colab": {
          "base_uri": "https://localhost:8080/"
        },
        "outputId": "d06a0072-99ac-47c7-e8da-4dbdcf8e8532"
      },
      "source": [
        "#print(times)\n",
        "for k,v in times.items():\n",
        "  print(\"Time needed to fit kmeans with {} clusters is: {}\".format(k,v))"
      ],
      "execution_count": 18,
      "outputs": [
        {
          "output_type": "stream",
          "name": "stdout",
          "text": [
            "Time needed to fit kmeans with 2 clusters is: 7.435139179229736\n",
            "Time needed to fit kmeans with 3 clusters is: 9.347939014434814\n",
            "Time needed to fit kmeans with 4 clusters is: 11.653063774108887\n",
            "Time needed to fit kmeans with 5 clusters is: 12.500734806060791\n",
            "Time needed to fit kmeans with 6 clusters is: 18.355401754379272\n",
            "Time needed to fit kmeans with 7 clusters is: 22.578028440475464\n",
            "Time needed to fit kmeans with 8 clusters is: 28.081982135772705\n",
            "Time needed to fit kmeans with 9 clusters is: 28.085889101028442\n"
          ]
        }
      ]
    },
    {
      "cell_type": "markdown",
      "source": [
        "### Cluster Consenus"
      ],
      "metadata": {
        "id": "Fu0X7UpX-k04"
      }
    },
    {
      "cell_type": "code",
      "source": [
        "kmeanModel = KMeans(n_clusters=3)\n",
        "kmeans = kmeanModel.fit(X.values)"
      ],
      "metadata": {
        "id": "QeayGDS_8qZz"
      },
      "execution_count": 60,
      "outputs": []
    },
    {
      "cell_type": "code",
      "source": [
        "p = kmeans.predict([X.iloc[0]])\n",
        "print(p)"
      ],
      "metadata": {
        "colab": {
          "base_uri": "https://localhost:8080/"
        },
        "id": "fhx0x8LiDIwx",
        "outputId": "f7f30912-e6b5-414d-ad89-bcf4f97c9493"
      },
      "execution_count": 61,
      "outputs": [
        {
          "output_type": "stream",
          "name": "stdout",
          "text": [
            "[0]\n"
          ]
        }
      ]
    },
    {
      "cell_type": "code",
      "source": [
        "# compute distribution of the posts in the clusters for each user\n",
        "# partitions = {user1: {c0:[post1, post4], c1:[post6], c2:[post3]}, user2:{c0:[], c1:[]}, etc}\n",
        "def posts_in_partition():\n",
        "  partitions = dict()\n",
        "  for index, row in data.iterrows():\n",
        "    userId = row[\"userId\"]\n",
        "    cluster = kmeans.predict([X.iloc[index]])\n",
        "    if userId in partitions:\n",
        "      if cluster[0] in partitions[userId]:\n",
        "        partitions[userId][cluster[0]].append(row[\"id\"])\n",
        "      else:\n",
        "        partitions[userId][cluster[0]] = [row[\"id\"]]\n",
        "    else:\n",
        "      partitions[userId] = {}\n",
        "      partitions[userId][cluster[0]] = [row[\"id\"]]\n",
        "  return partitions"
      ],
      "metadata": {
        "id": "eMx3h_Xg-y6F"
      },
      "execution_count": 64,
      "outputs": []
    },
    {
      "cell_type": "code",
      "source": [
        "partitions_by_user = posts_in_partition()"
      ],
      "metadata": {
        "id": "XjXdHS_2EfGx"
      },
      "execution_count": 65,
      "outputs": []
    },
    {
      "cell_type": "code",
      "source": [
        "import heapq\n",
        "def get_similarity(t):\n",
        "  return t[0]\n",
        "\n",
        "def similarity(target_user, top=5):\n",
        "  # Creating empty heap\n",
        "  heap = []\n",
        "  heapq.heapify(heap)\n",
        "  # number of target_user's posts in each cluster and total number of target's post\n",
        "  if target_user not in partitions_by_user:\n",
        "    print(\"Id not valid!\")\n",
        "    return\n",
        "  target_partitions = partitions_by_user[target_user]\n",
        "  target_scores = [len(x) for x in target_partitions.values()]\n",
        "  number_posts_target = sum(target_scores)\n",
        "  for k,v in partitions_by_user.items():\n",
        "    if k == target_user:\n",
        "      continue\n",
        "    user_scores = [len(x) for x in v.values()]\n",
        "    distance = sum([abs(x-y) for x,y in zip(target_scores, user_scores)])\n",
        "    number_posts_user = sum(user_scores)\n",
        "    total_posts = number_posts_target + number_posts_user\n",
        "    similarity = 1 - (distance/total_posts)\n",
        "    heapq.heappush(heap, (similarity, k))\n",
        "  return heapq.nlargest(top, heap, key=get_similarity) \n"
      ],
      "metadata": {
        "id": "ZQOVucJAIcve"
      },
      "execution_count": 85,
      "outputs": []
    },
    {
      "cell_type": "code",
      "source": [
        "id = 77\n",
        "best_users = similarity(id)\n",
        "best_users"
      ],
      "metadata": {
        "colab": {
          "base_uri": "https://localhost:8080/"
        },
        "id": "NSbbaL63Qlei",
        "outputId": "7d2d182f-d20c-479e-81f6-d25197c4d77a"
      },
      "execution_count": 86,
      "outputs": [
        {
          "output_type": "execute_result",
          "data": {
            "text/plain": [
              "[(1.0, 562), (1.0, 215), (1.0, 637), (1.0, 619), (1.0, 157)]"
            ]
          },
          "metadata": {},
          "execution_count": 86
        }
      ]
    },
    {
      "cell_type": "code",
      "source": [
        ""
      ],
      "metadata": {
        "id": "efzSRvHSQzUY"
      },
      "execution_count": null,
      "outputs": []
    }
  ],
  "metadata": {
    "colab": {
      "collapsed_sections": [
        "5VtIQ2yC3BOK",
        "0nHMfRid3OXs",
        "L8_Fe3eU47tz",
        "Eo5jkD2L3YrW",
        "llMccxgg-IRD"
      ],
      "name": "RecSys_Colab.ipynb",
      "provenance": []
    },
    "interpreter": {
      "hash": "916dbcbb3f70747c44a77c7bcd40155683ae19c65e1c03b4aa3499c5328201f1"
    },
    "kernelspec": {
      "display_name": "Python 3.8.10 64-bit",
      "language": "python",
      "name": "python3"
    },
    "language_info": {
      "codemirror_mode": {
        "name": "ipython",
        "version": 3
      },
      "file_extension": ".py",
      "mimetype": "text/x-python",
      "name": "python",
      "nbconvert_exporter": "python",
      "pygments_lexer": "ipython3",
      "version": "3.8.10"
    }
  },
  "nbformat": 4,
  "nbformat_minor": 0
}